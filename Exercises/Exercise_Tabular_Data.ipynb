{
 "cells": [
  {
   "cell_type": "markdown",
   "id": "bda2485f",
   "metadata": {},
   "source": [
    "---\n",
    "title: \"Homework 1\"\n",
    "subtitle: \"Working with tabular data\"\n",
    "execute: \n",
    "  enabled: false\n",
    "format:\n",
    "  revealjs: \n",
    "    smaller: true\n",
    "    scrollable: true\n",
    "    code-block-height: 650px  \n",
    "    theme: dark  \n",
    "    slide-number: true\n",
    "    code-fold: false\n",
    "    chalkboard: \n",
    "      buttons: false\n",
    "    preview-links: auto\n",
    "---"
   ]
  },
  {
   "cell_type": "markdown",
   "id": "99bda339-f37d-47a7-9a8b-c3ff52813b36",
   "metadata": {},
   "source": [
    "## Instructions"
   ]
  },
  {
   "cell_type": "markdown",
   "id": "aae58e36-8d17-4708-bbca-50d0f9bb5edc",
   "metadata": {},
   "source": [
    " - Insert the code and generate the figures you need to solve the problems using this notebook."
   ]
  },
  {
   "cell_type": "markdown",
   "id": "50b66066-ebb3-4867-9cac-90ceaf88e74c",
   "metadata": {},
   "source": [
    "------------------------------------------------------------------------------------------------------------------------------------------------------------------------------------------------------------------------"
   ]
  },
  {
   "cell_type": "markdown",
   "id": "b4b2d1f5-4440-473c-8b5c-d690d5250254",
   "metadata": {},
   "source": [
    "## Problem - Analysis of heart disease data set"
   ]
  },
  {
   "cell_type": "markdown",
   "id": "34edf43c-fb28-4570-bd8c-dc12072da4f3",
   "metadata": {},
   "source": [
    "Cardiovascular diseases (CVDs), commonly known as heart disease, are the leading cause of death worldwide, accounting for 17.9 million deaths annually. Contributing factors to CVDs include hypertension, diabetes, overweight, and unhealthy lifestyles."
   ]
  },
  {
   "cell_type": "markdown",
   "id": "54b8f373-1b4e-4dbd-864d-648b94ca4db2",
   "metadata": {},
   "source": [
    "The dataset contains 14 features or attributes from 900 patients; however, published studies chose only 14 features that are relevant in predicting heart disease. \n",
    "\n",
    "Below you can see the description of each column (this is often called meta data)"
   ]
  },
  {
   "cell_type": "markdown",
   "id": "24ef6d64-7d7c-4462-a8b2-572063b090d4",
   "metadata": {
    "tags": []
   },
   "source": [
    "## Medical Data Dictionary (Metadata)\n",
    "\n",
    "### Age\n",
    "\n",
    "### Sex\n",
    "- Male: `1`\n",
    "- Female: `0`\n",
    "\n",
    "### Chest Pain Type\n",
    "- Value 1: Typical angina\n",
    "- Value 2: Atypical angina\n",
    "- Value 3: Non-anginal pain\n",
    "- Value 4: Asymptomatic\n",
    "\n",
    "### Resting Blood Pressure\n",
    "- In mm Hg on admission to the hospital\n",
    "\n",
    "### Serum Cholesterol\n",
    "- In mg/dl\n",
    "\n",
    "### Fasting Blood Sugar\n",
    "- (Fasting blood sugar > 120 mg/dl): `1` = True, `0` = False\n",
    "\n",
    "### Resting Electrocardiographic Results\n",
    "- Value 0: Normal\n",
    "- Value 1: Having ST-T wave abnormality (T wave inversions and/or ST elevation or depression of > 0.05 mV)\n",
    "- Value 2: Showing probable or definite left ventricular hypertrophy by Estes' criteria\n",
    "\n",
    "### Thalach\n",
    "- Maximum heart rate achieved\n",
    "\n",
    "### Exercise Induced Angina\n",
    "- `1` = Yes\n",
    "- `0` = No\n",
    "\n",
    "Angina is chest pain or discomfort caused when your heart muscle doesn't get enough oxygen-rich blood. It may feel like pressure or squeezing in your chest.\n",
    "\n",
    "### Oldpeak\n",
    "- ST depression induced by exercise relative to rest\n",
    "\n",
    "### Slope\n",
    "- The slope of the peak exercise ST segment\n",
    "  - Value 1: Upsloping\n",
    "  - Value 2: Flat\n",
    "  - Value 3: Downsloping\n",
    "\n",
    "### Vessels Colored by Flouroscopy\n",
    "- Number of major vessels (0-3) colored by flouroscopy\n",
    "\n",
    "### Thalassemia\n",
    "- A blood disorder called thalassemia\n",
    "  - Value 3: Normal\n",
    "  - Value 6: Fixed defect\n",
    "  - Value 7: Reversable defect\n",
    "\n",
    "### Target\n",
    "- `0` = No Heart Disease\n",
    "- `1` = Heart Disease"
   ]
  },
  {
   "cell_type": "markdown",
   "id": "8682c7e0-58fa-48d8-9b93-f31de254c23f",
   "metadata": {},
   "source": [
    " ### 1. Read the data into a pandas dataframe and assign it to a variable named `df`"
   ]
  },
  {
   "cell_type": "code",
   "execution_count": 2,
   "id": "0d0d5298-cebb-435e-881e-797c4ab08b33",
   "metadata": {
    "tags": []
   },
   "outputs": [],
   "source": [
    "## Place your code here\n",
    "import pandas as pd\n",
    "df = pd.read_csv('data.csv', delimiter=',')\n"
   ]
  },
  {
   "cell_type": "markdown",
   "id": "d954dfd5-d556-4158-9d6d-9e2ca9f2a5af",
   "metadata": {},
   "source": [
    "### 2. Print the first five rows of the data set."
   ]
  },
  {
   "cell_type": "code",
   "execution_count": 3,
   "id": "a889dcb7-5727-48bd-b93f-1346ec661812",
   "metadata": {
    "tags": []
   },
   "outputs": [
    {
     "data": {
      "text/html": [
       "<div>\n",
       "<style scoped>\n",
       "    .dataframe tbody tr th:only-of-type {\n",
       "        vertical-align: middle;\n",
       "    }\n",
       "\n",
       "    .dataframe tbody tr th {\n",
       "        vertical-align: top;\n",
       "    }\n",
       "\n",
       "    .dataframe thead th {\n",
       "        text-align: right;\n",
       "    }\n",
       "</style>\n",
       "<table border=\"1\" class=\"dataframe\">\n",
       "  <thead>\n",
       "    <tr style=\"text-align: right;\">\n",
       "      <th></th>\n",
       "      <th>Absolute Pressure (bar)</th>\n",
       "      <th>Boiling Point (oC)</th>\n",
       "      <th>Specific Volume (steam) (m3/kg)</th>\n",
       "      <th>Density (steam) (kg/m3)</th>\n",
       "      <th>Specific Enthalpy of Liquid Water (sensible heat) (kJ/kg)</th>\n",
       "      <th>Specific Enthalpy of Liquid Water (sensible heat) (kcal/kg)</th>\n",
       "      <th>Specific Enthalpy of Steam (total heat) (kJ/kg)</th>\n",
       "      <th>Specific Enthalpy of Steam (total heat) (kcal/kg)</th>\n",
       "      <th>Latent heat of Vaporization (kJ/kg)</th>\n",
       "      <th>Latent heat of Vaporization (kcal/kg)</th>\n",
       "      <th>Specific Heat (kJ/kg K)</th>\n",
       "    </tr>\n",
       "  </thead>\n",
       "  <tbody>\n",
       "    <tr>\n",
       "      <th>0</th>\n",
       "      <td>0.02</td>\n",
       "      <td>17.51</td>\n",
       "      <td>67.006</td>\n",
       "      <td>0.015</td>\n",
       "      <td>73.45</td>\n",
       "      <td>17.54</td>\n",
       "      <td>2533.64</td>\n",
       "      <td>605.15</td>\n",
       "      <td>2460.19</td>\n",
       "      <td>587.61</td>\n",
       "      <td>1.8644</td>\n",
       "    </tr>\n",
       "    <tr>\n",
       "      <th>1</th>\n",
       "      <td>0.03</td>\n",
       "      <td>24.10</td>\n",
       "      <td>45.667</td>\n",
       "      <td>0.022</td>\n",
       "      <td>101.00</td>\n",
       "      <td>24.12</td>\n",
       "      <td>2545.64</td>\n",
       "      <td>608.02</td>\n",
       "      <td>2444.65</td>\n",
       "      <td>583.89</td>\n",
       "      <td>1.8694</td>\n",
       "    </tr>\n",
       "    <tr>\n",
       "      <th>2</th>\n",
       "      <td>0.04</td>\n",
       "      <td>28.98</td>\n",
       "      <td>34.802</td>\n",
       "      <td>0.029</td>\n",
       "      <td>121.41</td>\n",
       "      <td>29.00</td>\n",
       "      <td>2554.51</td>\n",
       "      <td>610.13</td>\n",
       "      <td>2433.10</td>\n",
       "      <td>581.14</td>\n",
       "      <td>1.8736</td>\n",
       "    </tr>\n",
       "    <tr>\n",
       "      <th>3</th>\n",
       "      <td>0.05</td>\n",
       "      <td>32.90</td>\n",
       "      <td>28.194</td>\n",
       "      <td>0.035</td>\n",
       "      <td>137.77</td>\n",
       "      <td>32.91</td>\n",
       "      <td>2561.59</td>\n",
       "      <td>611.83</td>\n",
       "      <td>2423.82</td>\n",
       "      <td>578.92</td>\n",
       "      <td>1.8774</td>\n",
       "    </tr>\n",
       "    <tr>\n",
       "      <th>4</th>\n",
       "      <td>0.06</td>\n",
       "      <td>36.18</td>\n",
       "      <td>23.741</td>\n",
       "      <td>0.042</td>\n",
       "      <td>151.50</td>\n",
       "      <td>36.19</td>\n",
       "      <td>2567.51</td>\n",
       "      <td>613.24</td>\n",
       "      <td>2416.01</td>\n",
       "      <td>577.05</td>\n",
       "      <td>1.8808</td>\n",
       "    </tr>\n",
       "  </tbody>\n",
       "</table>\n",
       "</div>"
      ],
      "text/plain": [
       "   Absolute Pressure (bar)  Boiling Point (oC)  ...  Latent heat of Vaporization (kcal/kg)  Specific Heat (kJ/kg K)\n",
       "0                     0.02               17.51  ...                                 587.61                   1.8644\n",
       "1                     0.03               24.10  ...                                 583.89                   1.8694\n",
       "2                     0.04               28.98  ...                                 581.14                   1.8736\n",
       "3                     0.05               32.90  ...                                 578.92                   1.8774\n",
       "4                     0.06               36.18  ...                                 577.05                   1.8808\n",
       "\n",
       "[5 rows x 11 columns]"
      ]
     },
     "execution_count": 3,
     "metadata": {},
     "output_type": "execute_result"
    }
   ],
   "source": [
    "## Place your code here\n",
    "df.head(5)"
   ]
  },
  {
   "cell_type": "markdown",
   "id": "9be92f5d-26b3-4d56-a362-025f683fa412",
   "metadata": {},
   "source": [
    "### 3. Print the **last** five rows of the data set. (Hint: There's a function similar to ``pd.head`` for it)"
   ]
  },
  {
   "cell_type": "code",
   "execution_count": 4,
   "id": "64386975-2d56-4334-9f66-7619c046993b",
   "metadata": {
    "tags": []
   },
   "outputs": [
    {
     "data": {
      "text/html": [
       "<div>\n",
       "<style scoped>\n",
       "    .dataframe tbody tr th:only-of-type {\n",
       "        vertical-align: middle;\n",
       "    }\n",
       "\n",
       "    .dataframe tbody tr th {\n",
       "        vertical-align: top;\n",
       "    }\n",
       "\n",
       "    .dataframe thead th {\n",
       "        text-align: right;\n",
       "    }\n",
       "</style>\n",
       "<table border=\"1\" class=\"dataframe\">\n",
       "  <thead>\n",
       "    <tr style=\"text-align: right;\">\n",
       "      <th></th>\n",
       "      <th>Absolute Pressure (bar)</th>\n",
       "      <th>Boiling Point (oC)</th>\n",
       "      <th>Specific Volume (steam) (m3/kg)</th>\n",
       "      <th>Density (steam) (kg/m3)</th>\n",
       "      <th>Specific Enthalpy of Liquid Water (sensible heat) (kJ/kg)</th>\n",
       "      <th>Specific Enthalpy of Liquid Water (sensible heat) (kcal/kg)</th>\n",
       "      <th>Specific Enthalpy of Steam (total heat) (kJ/kg)</th>\n",
       "      <th>Specific Enthalpy of Steam (total heat) (kcal/kg)</th>\n",
       "      <th>Latent heat of Vaporization (kJ/kg)</th>\n",
       "      <th>Latent heat of Vaporization (kcal/kg)</th>\n",
       "      <th>Specific Heat (kJ/kg K)</th>\n",
       "    </tr>\n",
       "  </thead>\n",
       "  <tbody>\n",
       "    <tr>\n",
       "      <th>63</th>\n",
       "      <td>26.0</td>\n",
       "      <td>226.03</td>\n",
       "      <td>0.077</td>\n",
       "      <td>13.012</td>\n",
       "      <td>971.69</td>\n",
       "      <td>232.08</td>\n",
       "      <td>2801.35</td>\n",
       "      <td>669.09</td>\n",
       "      <td>1829.66</td>\n",
       "      <td>437.01</td>\n",
       "      <td>3.2567</td>\n",
       "    </tr>\n",
       "    <tr>\n",
       "      <th>64</th>\n",
       "      <td>27.0</td>\n",
       "      <td>228.06</td>\n",
       "      <td>0.074</td>\n",
       "      <td>13.509</td>\n",
       "      <td>981.19</td>\n",
       "      <td>234.35</td>\n",
       "      <td>2801.69</td>\n",
       "      <td>669.17</td>\n",
       "      <td>1820.50</td>\n",
       "      <td>434.82</td>\n",
       "      <td>3.2944</td>\n",
       "    </tr>\n",
       "    <tr>\n",
       "      <th>65</th>\n",
       "      <td>28.0</td>\n",
       "      <td>230.04</td>\n",
       "      <td>0.071</td>\n",
       "      <td>14.008</td>\n",
       "      <td>990.46</td>\n",
       "      <td>236.57</td>\n",
       "      <td>2801.96</td>\n",
       "      <td>669.24</td>\n",
       "      <td>1811.50</td>\n",
       "      <td>432.67</td>\n",
       "      <td>3.3320</td>\n",
       "    </tr>\n",
       "    <tr>\n",
       "      <th>66</th>\n",
       "      <td>29.0</td>\n",
       "      <td>231.96</td>\n",
       "      <td>0.069</td>\n",
       "      <td>14.508</td>\n",
       "      <td>999.50</td>\n",
       "      <td>238.73</td>\n",
       "      <td>2802.15</td>\n",
       "      <td>669.28</td>\n",
       "      <td>1802.65</td>\n",
       "      <td>430.56</td>\n",
       "      <td>3.3695</td>\n",
       "    </tr>\n",
       "    <tr>\n",
       "      <th>67</th>\n",
       "      <td>30.0</td>\n",
       "      <td>233.84</td>\n",
       "      <td>0.067</td>\n",
       "      <td>15.009</td>\n",
       "      <td>1008.33</td>\n",
       "      <td>240.84</td>\n",
       "      <td>2802.27</td>\n",
       "      <td>669.31</td>\n",
       "      <td>1793.94</td>\n",
       "      <td>428.48</td>\n",
       "      <td>3.4069</td>\n",
       "    </tr>\n",
       "  </tbody>\n",
       "</table>\n",
       "</div>"
      ],
      "text/plain": [
       "    Absolute Pressure (bar)  Boiling Point (oC)  ...  Latent heat of Vaporization (kcal/kg)  Specific Heat (kJ/kg K)\n",
       "63                     26.0              226.03  ...                                 437.01                   3.2567\n",
       "64                     27.0              228.06  ...                                 434.82                   3.2944\n",
       "65                     28.0              230.04  ...                                 432.67                   3.3320\n",
       "66                     29.0              231.96  ...                                 430.56                   3.3695\n",
       "67                     30.0              233.84  ...                                 428.48                   3.4069\n",
       "\n",
       "[5 rows x 11 columns]"
      ]
     },
     "execution_count": 4,
     "metadata": {},
     "output_type": "execute_result"
    }
   ],
   "source": [
    "## Place your code here\n",
    "df.tail(5)"
   ]
  },
  {
   "cell_type": "markdown",
   "id": "b942fef7-efe3-4f5e-ade6-100e32481368",
   "metadata": {},
   "source": [
    "### 4. Count the number of rows in the data and assign it to `n_rows` variable and print."
   ]
  },
  {
   "cell_type": "code",
   "execution_count": 5,
   "id": "fbe3b185-f4e0-4c8b-bf74-d3493ff635f7",
   "metadata": {
    "editable": true,
    "slideshow": {
     "slide_type": ""
    },
    "tags": []
   },
   "outputs": [],
   "source": [
    "## Place your code here\n",
    "n_rows = df.shape[0]\n"
   ]
  },
  {
   "cell_type": "markdown",
   "id": "16ea20a0-e0fa-4af1-b1a8-7e532cf64b15",
   "metadata": {},
   "source": [
    "### 5. Count the number of missing values in each variable of the data frame. Assing it the variable `missing_count` and print"
   ]
  },
  {
   "cell_type": "code",
   "execution_count": 6,
   "id": "41cdad45-769a-4c0f-bada-a4eb54208385",
   "metadata": {
    "tags": []
   },
   "outputs": [],
   "source": [
    "## Place your code here\n",
    "missing_count = df.isna().sum()\n"
   ]
  },
  {
   "cell_type": "markdown",
   "id": "ce5cf779-752d-4864-9515-577a04b75872",
   "metadata": {},
   "source": [
    "### 6. Calulculate the percentage of missing data in each variable and save it to the variable `missing_percentage`. Print it"
   ]
  },
  {
   "cell_type": "code",
   "execution_count": 6,
   "id": "d8ca68bd-8a27-4a95-a9f0-ce2389a282af",
   "metadata": {
    "tags": []
   },
   "outputs": [],
   "source": [
    "## Place your code here\n"
   ]
  },
  {
   "cell_type": "markdown",
   "id": "e315d85b-f06d-4d36-a8db-8fda7b7765a0",
   "metadata": {},
   "source": [
    "### 7. What are the two variables with the highest percentage of missing entries? What do you recommending doing about it?"
   ]
  },
  {
   "cell_type": "markdown",
   "id": "2b003086-5c1c-4f36-859c-1ffe1f2e6ba6",
   "metadata": {},
   "source": [
    "Place your answer here as plain text\n"
   ]
  },
  {
   "cell_type": "markdown",
   "id": "9830a7cd-a767-4dfe-abaa-4ac902c8e1a6",
   "metadata": {},
   "source": [
    "### 8. Calculate the percentage of men and women in the data set. Save it the to the variable `m_w_fraction` and print. Are the number of men and women in the experiment balanced?"
   ]
  },
  {
   "cell_type": "code",
   "execution_count": 7,
   "id": "bddc9c57-fef0-42a3-9468-5fe44f2e8847",
   "metadata": {
    "tags": []
   },
   "outputs": [],
   "source": [
    "## Place your code here\n"
   ]
  },
  {
   "cell_type": "markdown",
   "id": "ae61924f-d76a-4457-9d08-e8a10eee46f6",
   "metadata": {},
   "source": [
    "Discuss it here:\n"
   ]
  },
  {
   "cell_type": "markdown",
   "id": "6971cd50-7e09-4713-8cb1-8a933a9be297",
   "metadata": {},
   "source": [
    "### 9. Plot the histogram of the colesterol variable(`chol`) variable using pandas with 20 bins. What can you observe from the histogram?"
   ]
  },
  {
   "cell_type": "code",
   "execution_count": 8,
   "id": "61d239f6-9cd3-46e4-a11f-6b3be953f062",
   "metadata": {
    "tags": []
   },
   "outputs": [],
   "source": [
    "## Place your code here\n"
   ]
  },
  {
   "cell_type": "markdown",
   "id": "eac3cfbe-57ce-4a73-ab38-4777c96f5f77",
   "metadata": {},
   "source": [
    "Place your answer here as plain text"
   ]
  },
  {
   "cell_type": "markdown",
   "id": "22db2822-3539-4a0d-83c8-22df40dac872",
   "metadata": {},
   "source": [
    "### 10. Make a scatter plot of the `age` with `chol` using pandas. What do you observe - Are there any visible patterns?"
   ]
  },
  {
   "cell_type": "code",
   "execution_count": 9,
   "id": "b25b8f1e-293a-41cf-af7f-ddd6461363a1",
   "metadata": {
    "tags": []
   },
   "outputs": [],
   "source": [
    "## Place your code here\n"
   ]
  },
  {
   "cell_type": "markdown",
   "id": "59b15091-883f-4376-a09f-7bfdd4e46690",
   "metadata": {},
   "source": [
    "Place your answer here as plain text"
   ]
  }
 ],
 "metadata": {
  "kernelspec": {
   "display_name": "Python 3 (ipykernel)",
   "language": "python",
   "name": "python3"
  },
  "language_info": {
   "codemirror_mode": {
    "name": "ipython",
    "version": 3
   },
   "file_extension": ".py",
   "mimetype": "text/x-python",
   "name": "python",
   "nbconvert_exporter": "python",
   "pygments_lexer": "ipython3",
   "version": "3.12.3"
  }
 },
 "nbformat": 4,
 "nbformat_minor": 5
}
