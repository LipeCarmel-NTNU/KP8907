{
 "cells": [
  {
   "cell_type": "markdown",
   "id": "bda2485f",
   "metadata": {},
   "source": [
    "---\n",
    "title: \"Homework 1\"\n",
    "subtitle: \"Working with tabular data\"\n",
    "execute: \n",
    "  enabled: false\n",
    "format:\n",
    "  revealjs: \n",
    "    smaller: true\n",
    "    scrollable: true\n",
    "    code-block-height: 650px  \n",
    "    theme: dark  \n",
    "    slide-number: true\n",
    "    code-fold: false\n",
    "    chalkboard: \n",
    "      buttons: false\n",
    "    preview-links: auto\n",
    "---"
   ]
  },
  {
   "cell_type": "markdown",
   "id": "99bda339-f37d-47a7-9a8b-c3ff52813b36",
   "metadata": {},
   "source": [
    "## Instructions"
   ]
  },
  {
   "cell_type": "markdown",
   "id": "aae58e36-8d17-4708-bbca-50d0f9bb5edc",
   "metadata": {},
   "source": [
    " - Insert the code and generate the figures you need to solve the problems using this notebook."
   ]
  },
  {
   "cell_type": "markdown",
   "id": "50b66066-ebb3-4867-9cac-90ceaf88e74c",
   "metadata": {},
   "source": [
    "------------------------------------------------------------------------------------------------------------------------------------------------------------------------------------------------------------------------"
   ]
  },
  {
   "cell_type": "markdown",
   "id": "b4b2d1f5-4440-473c-8b5c-d690d5250254",
   "metadata": {},
   "source": [
    "## Problem - Analysis of heart disease data set"
   ]
  },
  {
   "cell_type": "markdown",
   "id": "34edf43c-fb28-4570-bd8c-dc12072da4f3",
   "metadata": {},
   "source": [
    "Cardiovascular diseases (CVDs), commonly known as heart disease, are the leading cause of death worldwide, accounting for 17.9 million deaths annually. Contributing factors to CVDs include hypertension, diabetes, overweight, and unhealthy lifestyles."
   ]
  },
  {
   "cell_type": "markdown",
   "id": "54b8f373-1b4e-4dbd-864d-648b94ca4db2",
   "metadata": {},
   "source": [
    "The dataset contains 14 features or attributes from 900 patients; however, published studies chose only 14 features that are relevant in predicting heart disease. \n",
    "\n",
    "Below you can see the description of each column (this is often called meta data)"
   ]
  },
  {
   "cell_type": "markdown",
   "id": "24ef6d64-7d7c-4462-a8b2-572063b090d4",
   "metadata": {
    "tags": []
   },
   "source": [
    "## Medical Data Dictionary (Metadata)\n",
    "\n",
    "### Age\n",
    "\n",
    "### Sex\n",
    "- Male: `1`\n",
    "- Female: `0`\n",
    "\n",
    "### Chest Pain Type\n",
    "- Value 1: Typical angina\n",
    "- Value 2: Atypical angina\n",
    "- Value 3: Non-anginal pain\n",
    "- Value 4: Asymptomatic\n",
    "\n",
    "### Resting Blood Pressure\n",
    "- In mm Hg on admission to the hospital\n",
    "\n",
    "### Serum Cholesterol\n",
    "- In mg/dl\n",
    "\n",
    "### Fasting Blood Sugar\n",
    "- (Fasting blood sugar > 120 mg/dl): `1` = True, `0` = False\n",
    "\n",
    "### Resting Electrocardiographic Results\n",
    "- Value 0: Normal\n",
    "- Value 1: Having ST-T wave abnormality (T wave inversions and/or ST elevation or depression of > 0.05 mV)\n",
    "- Value 2: Showing probable or definite left ventricular hypertrophy by Estes' criteria\n",
    "\n",
    "### Thalach\n",
    "- Maximum heart rate achieved\n",
    "\n",
    "### Exercise Induced Angina\n",
    "- `1` = Yes\n",
    "- `0` = No\n",
    "\n",
    "Angina is chest pain or discomfort caused when your heart muscle doesn't get enough oxygen-rich blood. It may feel like pressure or squeezing in your chest.\n",
    "\n",
    "### Oldpeak\n",
    "- ST depression induced by exercise relative to rest\n",
    "\n",
    "### Slope\n",
    "- The slope of the peak exercise ST segment\n",
    "  - Value 1: Upsloping\n",
    "  - Value 2: Flat\n",
    "  - Value 3: Downsloping\n",
    "\n",
    "### Vessels Colored by Flouroscopy\n",
    "- Number of major vessels (0-3) colored by flouroscopy\n",
    "\n",
    "### Thalassemia\n",
    "- A blood disorder called thalassemia\n",
    "  - Value 3: Normal\n",
    "  - Value 6: Fixed defect\n",
    "  - Value 7: Reversable defect\n",
    "\n",
    "### Target\n",
    "- `0` = No Heart Disease\n",
    "- `1` = Heart Disease"
   ]
  },
  {
   "cell_type": "markdown",
   "id": "8682c7e0-58fa-48d8-9b93-f31de254c23f",
   "metadata": {},
   "source": [
    " ### 1. Read the data into a pandas dataframe and assign it to a variable named `df`"
   ]
  },
  {
   "cell_type": "code",
   "execution_count": 41,
   "id": "0d0d5298-cebb-435e-881e-797c4ab08b33",
   "metadata": {
    "tags": []
   },
   "outputs": [],
   "source": [
    "## Place your code here\n",
    "import pandas as pd\n",
    "df = pd.read_csv('heart_disease_uci.csv', delimiter=',')\n"
   ]
  },
  {
   "cell_type": "markdown",
   "id": "d954dfd5-d556-4158-9d6d-9e2ca9f2a5af",
   "metadata": {},
   "source": [
    "### 2. Print the first five rows of the data set."
   ]
  },
  {
   "cell_type": "code",
   "execution_count": 42,
   "id": "a889dcb7-5727-48bd-b93f-1346ec661812",
   "metadata": {
    "tags": []
   },
   "outputs": [
    {
     "data": {
      "text/html": [
       "<div>\n",
       "<style scoped>\n",
       "    .dataframe tbody tr th:only-of-type {\n",
       "        vertical-align: middle;\n",
       "    }\n",
       "\n",
       "    .dataframe tbody tr th {\n",
       "        vertical-align: top;\n",
       "    }\n",
       "\n",
       "    .dataframe thead th {\n",
       "        text-align: right;\n",
       "    }\n",
       "</style>\n",
       "<table border=\"1\" class=\"dataframe\">\n",
       "  <thead>\n",
       "    <tr style=\"text-align: right;\">\n",
       "      <th></th>\n",
       "      <th>id</th>\n",
       "      <th>age</th>\n",
       "      <th>sex</th>\n",
       "      <th>dataset</th>\n",
       "      <th>cp</th>\n",
       "      <th>trestbps</th>\n",
       "      <th>chol</th>\n",
       "      <th>fbs</th>\n",
       "      <th>restecg</th>\n",
       "      <th>thalch</th>\n",
       "      <th>exang</th>\n",
       "      <th>oldpeak</th>\n",
       "      <th>slope</th>\n",
       "      <th>ca</th>\n",
       "      <th>thal</th>\n",
       "      <th>num</th>\n",
       "    </tr>\n",
       "  </thead>\n",
       "  <tbody>\n",
       "    <tr>\n",
       "      <th>0</th>\n",
       "      <td>1</td>\n",
       "      <td>63</td>\n",
       "      <td>Male</td>\n",
       "      <td>Cleveland</td>\n",
       "      <td>typical angina</td>\n",
       "      <td>145.0</td>\n",
       "      <td>233.0</td>\n",
       "      <td>True</td>\n",
       "      <td>lv hypertrophy</td>\n",
       "      <td>150.0</td>\n",
       "      <td>False</td>\n",
       "      <td>2.3</td>\n",
       "      <td>downsloping</td>\n",
       "      <td>0.0</td>\n",
       "      <td>fixed defect</td>\n",
       "      <td>0</td>\n",
       "    </tr>\n",
       "    <tr>\n",
       "      <th>1</th>\n",
       "      <td>2</td>\n",
       "      <td>67</td>\n",
       "      <td>Male</td>\n",
       "      <td>Cleveland</td>\n",
       "      <td>asymptomatic</td>\n",
       "      <td>160.0</td>\n",
       "      <td>286.0</td>\n",
       "      <td>False</td>\n",
       "      <td>lv hypertrophy</td>\n",
       "      <td>108.0</td>\n",
       "      <td>True</td>\n",
       "      <td>1.5</td>\n",
       "      <td>flat</td>\n",
       "      <td>3.0</td>\n",
       "      <td>normal</td>\n",
       "      <td>2</td>\n",
       "    </tr>\n",
       "    <tr>\n",
       "      <th>2</th>\n",
       "      <td>3</td>\n",
       "      <td>67</td>\n",
       "      <td>Male</td>\n",
       "      <td>Cleveland</td>\n",
       "      <td>asymptomatic</td>\n",
       "      <td>120.0</td>\n",
       "      <td>229.0</td>\n",
       "      <td>False</td>\n",
       "      <td>lv hypertrophy</td>\n",
       "      <td>129.0</td>\n",
       "      <td>True</td>\n",
       "      <td>2.6</td>\n",
       "      <td>flat</td>\n",
       "      <td>2.0</td>\n",
       "      <td>reversable defect</td>\n",
       "      <td>1</td>\n",
       "    </tr>\n",
       "    <tr>\n",
       "      <th>3</th>\n",
       "      <td>4</td>\n",
       "      <td>37</td>\n",
       "      <td>Male</td>\n",
       "      <td>Cleveland</td>\n",
       "      <td>non-anginal</td>\n",
       "      <td>130.0</td>\n",
       "      <td>250.0</td>\n",
       "      <td>False</td>\n",
       "      <td>normal</td>\n",
       "      <td>187.0</td>\n",
       "      <td>False</td>\n",
       "      <td>3.5</td>\n",
       "      <td>downsloping</td>\n",
       "      <td>0.0</td>\n",
       "      <td>normal</td>\n",
       "      <td>0</td>\n",
       "    </tr>\n",
       "    <tr>\n",
       "      <th>4</th>\n",
       "      <td>5</td>\n",
       "      <td>41</td>\n",
       "      <td>Female</td>\n",
       "      <td>Cleveland</td>\n",
       "      <td>atypical angina</td>\n",
       "      <td>130.0</td>\n",
       "      <td>204.0</td>\n",
       "      <td>False</td>\n",
       "      <td>lv hypertrophy</td>\n",
       "      <td>172.0</td>\n",
       "      <td>False</td>\n",
       "      <td>1.4</td>\n",
       "      <td>upsloping</td>\n",
       "      <td>0.0</td>\n",
       "      <td>normal</td>\n",
       "      <td>0</td>\n",
       "    </tr>\n",
       "  </tbody>\n",
       "</table>\n",
       "</div>"
      ],
      "text/plain": [
       "   id  age     sex    dataset               cp  trestbps   chol    fbs  \\\n",
       "0   1   63    Male  Cleveland   typical angina     145.0  233.0   True   \n",
       "1   2   67    Male  Cleveland     asymptomatic     160.0  286.0  False   \n",
       "2   3   67    Male  Cleveland     asymptomatic     120.0  229.0  False   \n",
       "3   4   37    Male  Cleveland      non-anginal     130.0  250.0  False   \n",
       "4   5   41  Female  Cleveland  atypical angina     130.0  204.0  False   \n",
       "\n",
       "          restecg  thalch  exang  oldpeak        slope   ca  \\\n",
       "0  lv hypertrophy   150.0  False      2.3  downsloping  0.0   \n",
       "1  lv hypertrophy   108.0   True      1.5         flat  3.0   \n",
       "2  lv hypertrophy   129.0   True      2.6         flat  2.0   \n",
       "3          normal   187.0  False      3.5  downsloping  0.0   \n",
       "4  lv hypertrophy   172.0  False      1.4    upsloping  0.0   \n",
       "\n",
       "                thal  num  \n",
       "0       fixed defect    0  \n",
       "1             normal    2  \n",
       "2  reversable defect    1  \n",
       "3             normal    0  \n",
       "4             normal    0  "
      ]
     },
     "execution_count": 42,
     "metadata": {},
     "output_type": "execute_result"
    }
   ],
   "source": [
    "## Place your code here\n",
    "df.head(5)"
   ]
  },
  {
   "cell_type": "markdown",
   "id": "9be92f5d-26b3-4d56-a362-025f683fa412",
   "metadata": {},
   "source": [
    "### 3. Print the **last** five rows of the data set. (Hint: There's a function similar to ``pd.head`` for it)"
   ]
  },
  {
   "cell_type": "code",
   "execution_count": 43,
   "id": "64386975-2d56-4334-9f66-7619c046993b",
   "metadata": {
    "tags": []
   },
   "outputs": [
    {
     "data": {
      "text/html": [
       "<div>\n",
       "<style scoped>\n",
       "    .dataframe tbody tr th:only-of-type {\n",
       "        vertical-align: middle;\n",
       "    }\n",
       "\n",
       "    .dataframe tbody tr th {\n",
       "        vertical-align: top;\n",
       "    }\n",
       "\n",
       "    .dataframe thead th {\n",
       "        text-align: right;\n",
       "    }\n",
       "</style>\n",
       "<table border=\"1\" class=\"dataframe\">\n",
       "  <thead>\n",
       "    <tr style=\"text-align: right;\">\n",
       "      <th></th>\n",
       "      <th>id</th>\n",
       "      <th>age</th>\n",
       "      <th>sex</th>\n",
       "      <th>dataset</th>\n",
       "      <th>cp</th>\n",
       "      <th>trestbps</th>\n",
       "      <th>chol</th>\n",
       "      <th>fbs</th>\n",
       "      <th>restecg</th>\n",
       "      <th>thalch</th>\n",
       "      <th>exang</th>\n",
       "      <th>oldpeak</th>\n",
       "      <th>slope</th>\n",
       "      <th>ca</th>\n",
       "      <th>thal</th>\n",
       "      <th>num</th>\n",
       "    </tr>\n",
       "  </thead>\n",
       "  <tbody>\n",
       "    <tr>\n",
       "      <th>915</th>\n",
       "      <td>916</td>\n",
       "      <td>54</td>\n",
       "      <td>Female</td>\n",
       "      <td>VA Long Beach</td>\n",
       "      <td>asymptomatic</td>\n",
       "      <td>127.0</td>\n",
       "      <td>333.0</td>\n",
       "      <td>True</td>\n",
       "      <td>st-t abnormality</td>\n",
       "      <td>154.0</td>\n",
       "      <td>False</td>\n",
       "      <td>0.0</td>\n",
       "      <td>NaN</td>\n",
       "      <td>NaN</td>\n",
       "      <td>NaN</td>\n",
       "      <td>1</td>\n",
       "    </tr>\n",
       "    <tr>\n",
       "      <th>916</th>\n",
       "      <td>917</td>\n",
       "      <td>62</td>\n",
       "      <td>Male</td>\n",
       "      <td>VA Long Beach</td>\n",
       "      <td>typical angina</td>\n",
       "      <td>NaN</td>\n",
       "      <td>139.0</td>\n",
       "      <td>False</td>\n",
       "      <td>st-t abnormality</td>\n",
       "      <td>NaN</td>\n",
       "      <td>NaN</td>\n",
       "      <td>NaN</td>\n",
       "      <td>NaN</td>\n",
       "      <td>NaN</td>\n",
       "      <td>NaN</td>\n",
       "      <td>0</td>\n",
       "    </tr>\n",
       "    <tr>\n",
       "      <th>917</th>\n",
       "      <td>918</td>\n",
       "      <td>55</td>\n",
       "      <td>Male</td>\n",
       "      <td>VA Long Beach</td>\n",
       "      <td>asymptomatic</td>\n",
       "      <td>122.0</td>\n",
       "      <td>223.0</td>\n",
       "      <td>True</td>\n",
       "      <td>st-t abnormality</td>\n",
       "      <td>100.0</td>\n",
       "      <td>False</td>\n",
       "      <td>0.0</td>\n",
       "      <td>NaN</td>\n",
       "      <td>NaN</td>\n",
       "      <td>fixed defect</td>\n",
       "      <td>2</td>\n",
       "    </tr>\n",
       "    <tr>\n",
       "      <th>918</th>\n",
       "      <td>919</td>\n",
       "      <td>58</td>\n",
       "      <td>Male</td>\n",
       "      <td>VA Long Beach</td>\n",
       "      <td>asymptomatic</td>\n",
       "      <td>NaN</td>\n",
       "      <td>385.0</td>\n",
       "      <td>True</td>\n",
       "      <td>lv hypertrophy</td>\n",
       "      <td>NaN</td>\n",
       "      <td>NaN</td>\n",
       "      <td>NaN</td>\n",
       "      <td>NaN</td>\n",
       "      <td>NaN</td>\n",
       "      <td>NaN</td>\n",
       "      <td>0</td>\n",
       "    </tr>\n",
       "    <tr>\n",
       "      <th>919</th>\n",
       "      <td>920</td>\n",
       "      <td>62</td>\n",
       "      <td>Male</td>\n",
       "      <td>VA Long Beach</td>\n",
       "      <td>atypical angina</td>\n",
       "      <td>120.0</td>\n",
       "      <td>254.0</td>\n",
       "      <td>False</td>\n",
       "      <td>lv hypertrophy</td>\n",
       "      <td>93.0</td>\n",
       "      <td>True</td>\n",
       "      <td>0.0</td>\n",
       "      <td>NaN</td>\n",
       "      <td>NaN</td>\n",
       "      <td>NaN</td>\n",
       "      <td>1</td>\n",
       "    </tr>\n",
       "  </tbody>\n",
       "</table>\n",
       "</div>"
      ],
      "text/plain": [
       "      id  age     sex        dataset               cp  trestbps   chol    fbs  \\\n",
       "915  916   54  Female  VA Long Beach     asymptomatic     127.0  333.0   True   \n",
       "916  917   62    Male  VA Long Beach   typical angina       NaN  139.0  False   \n",
       "917  918   55    Male  VA Long Beach     asymptomatic     122.0  223.0   True   \n",
       "918  919   58    Male  VA Long Beach     asymptomatic       NaN  385.0   True   \n",
       "919  920   62    Male  VA Long Beach  atypical angina     120.0  254.0  False   \n",
       "\n",
       "              restecg  thalch  exang  oldpeak slope  ca          thal  num  \n",
       "915  st-t abnormality   154.0  False      0.0   NaN NaN           NaN    1  \n",
       "916  st-t abnormality     NaN    NaN      NaN   NaN NaN           NaN    0  \n",
       "917  st-t abnormality   100.0  False      0.0   NaN NaN  fixed defect    2  \n",
       "918    lv hypertrophy     NaN    NaN      NaN   NaN NaN           NaN    0  \n",
       "919    lv hypertrophy    93.0   True      0.0   NaN NaN           NaN    1  "
      ]
     },
     "execution_count": 43,
     "metadata": {},
     "output_type": "execute_result"
    }
   ],
   "source": [
    "## Place your code here\n",
    "df.tail(5)"
   ]
  },
  {
   "cell_type": "markdown",
   "id": "b942fef7-efe3-4f5e-ade6-100e32481368",
   "metadata": {},
   "source": [
    "### 4. Count the number of rows in the data and assign it to `n_rows` variable and print."
   ]
  },
  {
   "cell_type": "code",
   "execution_count": 44,
   "id": "fbe3b185-f4e0-4c8b-bf74-d3493ff635f7",
   "metadata": {
    "editable": true,
    "slideshow": {
     "slide_type": ""
    },
    "tags": []
   },
   "outputs": [
    {
     "name": "stdout",
     "output_type": "stream",
     "text": [
      "920\n"
     ]
    }
   ],
   "source": [
    "## Place your code here\n",
    "n_rows = df.shape[0]\n",
    "print(n_rows)"
   ]
  },
  {
   "cell_type": "markdown",
   "id": "16ea20a0-e0fa-4af1-b1a8-7e532cf64b15",
   "metadata": {},
   "source": [
    "### 5. Count the number of missing values in each variable of the data frame. Assing it the variable `missing_count` and print"
   ]
  },
  {
   "cell_type": "code",
   "execution_count": 45,
   "id": "41cdad45-769a-4c0f-bada-a4eb54208385",
   "metadata": {
    "tags": []
   },
   "outputs": [
    {
     "name": "stdout",
     "output_type": "stream",
     "text": [
      "id            0\n",
      "age           0\n",
      "sex           0\n",
      "dataset       0\n",
      "cp            0\n",
      "trestbps     59\n",
      "chol         30\n",
      "fbs          90\n",
      "restecg       2\n",
      "thalch       55\n",
      "exang        55\n",
      "oldpeak      62\n",
      "slope       309\n",
      "ca          611\n",
      "thal        486\n",
      "num           0\n",
      "dtype: int64\n"
     ]
    }
   ],
   "source": [
    "## Place your code here\n",
    "missing_count = df.isna().sum()\n",
    "print(missing_count)\n"
   ]
  },
  {
   "cell_type": "markdown",
   "id": "ce5cf779-752d-4864-9515-577a04b75872",
   "metadata": {},
   "source": [
    "### 6. Calulculate the percentage of missing data in each variable and save it to the variable `missing_percentage`. Print it"
   ]
  },
  {
   "cell_type": "code",
   "execution_count": 46,
   "id": "d8ca68bd-8a27-4a95-a9f0-ce2389a282af",
   "metadata": {
    "tags": []
   },
   "outputs": [
    {
     "name": "stdout",
     "output_type": "stream",
     "text": [
      "id           0.000000\n",
      "age          0.000000\n",
      "sex          0.000000\n",
      "dataset      0.000000\n",
      "cp           0.000000\n",
      "trestbps     6.413043\n",
      "chol         3.260870\n",
      "fbs          9.782609\n",
      "restecg      0.217391\n",
      "thalch       5.978261\n",
      "exang        5.978261\n",
      "oldpeak      6.739130\n",
      "slope       33.586957\n",
      "ca          66.413043\n",
      "thal        52.826087\n",
      "num          0.000000\n",
      "dtype: float64\n"
     ]
    }
   ],
   "source": [
    "## Place your code here\n",
    "missing_percentage = 100*missing_count/n_rows\n",
    "print(missing_percentage)"
   ]
  },
  {
   "cell_type": "markdown",
   "id": "e315d85b-f06d-4d36-a8db-8fda7b7765a0",
   "metadata": {},
   "source": [
    "### 7. What are the two variables with the highest percentage of missing entries? What do you recommending doing about it?"
   ]
  },
  {
   "cell_type": "markdown",
   "id": "2b003086-5c1c-4f36-859c-1ffe1f2e6ba6",
   "metadata": {},
   "source": [
    "Place your answer here as plain text\n"
   ]
  },
  {
   "cell_type": "markdown",
   "id": "9830a7cd-a767-4dfe-abaa-4ac902c8e1a6",
   "metadata": {},
   "source": [
    "### 8. Calculate the percentage of men and women in the data set. Save it the to the variable `m_w_fraction` and print. Are the number of men and women in the experiment balanced?"
   ]
  },
  {
   "cell_type": "code",
   "execution_count": 47,
   "id": "bddc9c57-fef0-42a3-9468-5fe44f2e8847",
   "metadata": {
    "tags": []
   },
   "outputs": [
    {
     "name": "stdout",
     "output_type": "stream",
     "text": [
      "sex\n",
      "Male      0.78913\n",
      "Female    0.21087\n",
      "Name: count, dtype: float64\n"
     ]
    }
   ],
   "source": [
    "## Place your code here\n",
    "m_w_fraction = df['sex'].value_counts()/df['sex'].count()\n",
    "print(m_w_fraction)"
   ]
  },
  {
   "cell_type": "markdown",
   "id": "ae61924f-d76a-4457-9d08-e8a10eee46f6",
   "metadata": {},
   "source": [
    "Discuss it here:\n"
   ]
  },
  {
   "cell_type": "markdown",
   "id": "6971cd50-7e09-4713-8cb1-8a933a9be297",
   "metadata": {},
   "source": [
    "### 9. Plot the histogram of the colesterol variable(`chol`) variable using pandas with 20 bins. What can you observe from the histogram?"
   ]
  },
  {
   "cell_type": "code",
   "execution_count": 48,
   "id": "61d239f6-9cd3-46e4-a11f-6b3be953f062",
   "metadata": {
    "tags": []
   },
   "outputs": [
    {
     "data": {
      "text/plain": [
       "array([[<Axes: title={'center': 'chol'}>]], dtype=object)"
      ]
     },
     "execution_count": 48,
     "metadata": {},
     "output_type": "execute_result"
    },
    {
     "data": {
      "image/png": "[encoded data removed]",
      "text/plain": [
       "<Figure size 640x480 with 1 Axes>"
      ]
     },
     "metadata": {},
     "output_type": "display_data"
    }
   ],
   "source": [
    "## Place your code here\n",
    "\n",
    "df.hist(\"chol\", bins = 20)\n"
   ]
  },
  {
   "cell_type": "markdown",
   "id": "eac3cfbe-57ce-4a73-ab38-4777c96f5f77",
   "metadata": {},
   "source": [
    "Place your answer here as plain text"
   ]
  },
  {
   "cell_type": "code",
   "execution_count": 49,
   "id": "23bfe2af",
   "metadata": {},
   "outputs": [
    {
     "data": {
      "text/html": [
       "<div>\n",
       "<style scoped>\n",
       "    .dataframe tbody tr th:only-of-type {\n",
       "        vertical-align: middle;\n",
       "    }\n",
       "\n",
       "    .dataframe tbody tr th {\n",
       "        vertical-align: top;\n",
       "    }\n",
       "\n",
       "    .dataframe thead th {\n",
       "        text-align: right;\n",
       "    }\n",
       "</style>\n",
       "<table border=\"1\" class=\"dataframe\">\n",
       "  <thead>\n",
       "    <tr style=\"text-align: right;\">\n",
       "      <th></th>\n",
       "      <th>id</th>\n",
       "      <th>age</th>\n",
       "      <th>sex</th>\n",
       "      <th>dataset</th>\n",
       "      <th>cp</th>\n",
       "      <th>trestbps</th>\n",
       "      <th>chol</th>\n",
       "      <th>fbs</th>\n",
       "      <th>restecg</th>\n",
       "      <th>thalch</th>\n",
       "      <th>exang</th>\n",
       "      <th>oldpeak</th>\n",
       "      <th>slope</th>\n",
       "      <th>ca</th>\n",
       "      <th>thal</th>\n",
       "      <th>num</th>\n",
       "    </tr>\n",
       "  </thead>\n",
       "  <tbody>\n",
       "    <tr>\n",
       "      <th>597</th>\n",
       "      <td>598</td>\n",
       "      <td>32</td>\n",
       "      <td>Male</td>\n",
       "      <td>Switzerland</td>\n",
       "      <td>typical angina</td>\n",
       "      <td>95.0</td>\n",
       "      <td>0.0</td>\n",
       "      <td>NaN</td>\n",
       "      <td>normal</td>\n",
       "      <td>127.0</td>\n",
       "      <td>False</td>\n",
       "      <td>0.7</td>\n",
       "      <td>upsloping</td>\n",
       "      <td>NaN</td>\n",
       "      <td>NaN</td>\n",
       "      <td>1</td>\n",
       "    </tr>\n",
       "    <tr>\n",
       "      <th>598</th>\n",
       "      <td>599</td>\n",
       "      <td>34</td>\n",
       "      <td>Male</td>\n",
       "      <td>Switzerland</td>\n",
       "      <td>asymptomatic</td>\n",
       "      <td>115.0</td>\n",
       "      <td>0.0</td>\n",
       "      <td>NaN</td>\n",
       "      <td>NaN</td>\n",
       "      <td>154.0</td>\n",
       "      <td>False</td>\n",
       "      <td>0.2</td>\n",
       "      <td>upsloping</td>\n",
       "      <td>NaN</td>\n",
       "      <td>NaN</td>\n",
       "      <td>1</td>\n",
       "    </tr>\n",
       "    <tr>\n",
       "      <th>599</th>\n",
       "      <td>600</td>\n",
       "      <td>35</td>\n",
       "      <td>Male</td>\n",
       "      <td>Switzerland</td>\n",
       "      <td>asymptomatic</td>\n",
       "      <td>NaN</td>\n",
       "      <td>0.0</td>\n",
       "      <td>NaN</td>\n",
       "      <td>normal</td>\n",
       "      <td>130.0</td>\n",
       "      <td>True</td>\n",
       "      <td>NaN</td>\n",
       "      <td>NaN</td>\n",
       "      <td>NaN</td>\n",
       "      <td>reversable defect</td>\n",
       "      <td>3</td>\n",
       "    </tr>\n",
       "    <tr>\n",
       "      <th>600</th>\n",
       "      <td>601</td>\n",
       "      <td>36</td>\n",
       "      <td>Male</td>\n",
       "      <td>Switzerland</td>\n",
       "      <td>asymptomatic</td>\n",
       "      <td>110.0</td>\n",
       "      <td>0.0</td>\n",
       "      <td>NaN</td>\n",
       "      <td>normal</td>\n",
       "      <td>125.0</td>\n",
       "      <td>True</td>\n",
       "      <td>1.0</td>\n",
       "      <td>flat</td>\n",
       "      <td>NaN</td>\n",
       "      <td>fixed defect</td>\n",
       "      <td>1</td>\n",
       "    </tr>\n",
       "    <tr>\n",
       "      <th>601</th>\n",
       "      <td>602</td>\n",
       "      <td>38</td>\n",
       "      <td>Female</td>\n",
       "      <td>Switzerland</td>\n",
       "      <td>asymptomatic</td>\n",
       "      <td>105.0</td>\n",
       "      <td>0.0</td>\n",
       "      <td>NaN</td>\n",
       "      <td>normal</td>\n",
       "      <td>166.0</td>\n",
       "      <td>False</td>\n",
       "      <td>2.8</td>\n",
       "      <td>upsloping</td>\n",
       "      <td>NaN</td>\n",
       "      <td>NaN</td>\n",
       "      <td>2</td>\n",
       "    </tr>\n",
       "    <tr>\n",
       "      <th>...</th>\n",
       "      <td>...</td>\n",
       "      <td>...</td>\n",
       "      <td>...</td>\n",
       "      <td>...</td>\n",
       "      <td>...</td>\n",
       "      <td>...</td>\n",
       "      <td>...</td>\n",
       "      <td>...</td>\n",
       "      <td>...</td>\n",
       "      <td>...</td>\n",
       "      <td>...</td>\n",
       "      <td>...</td>\n",
       "      <td>...</td>\n",
       "      <td>...</td>\n",
       "      <td>...</td>\n",
       "      <td>...</td>\n",
       "    </tr>\n",
       "    <tr>\n",
       "      <th>818</th>\n",
       "      <td>819</td>\n",
       "      <td>43</td>\n",
       "      <td>Male</td>\n",
       "      <td>VA Long Beach</td>\n",
       "      <td>asymptomatic</td>\n",
       "      <td>122.0</td>\n",
       "      <td>0.0</td>\n",
       "      <td>False</td>\n",
       "      <td>normal</td>\n",
       "      <td>120.0</td>\n",
       "      <td>False</td>\n",
       "      <td>0.5</td>\n",
       "      <td>upsloping</td>\n",
       "      <td>NaN</td>\n",
       "      <td>NaN</td>\n",
       "      <td>1</td>\n",
       "    </tr>\n",
       "    <tr>\n",
       "      <th>819</th>\n",
       "      <td>820</td>\n",
       "      <td>63</td>\n",
       "      <td>Male</td>\n",
       "      <td>VA Long Beach</td>\n",
       "      <td>non-anginal</td>\n",
       "      <td>130.0</td>\n",
       "      <td>0.0</td>\n",
       "      <td>True</td>\n",
       "      <td>st-t abnormality</td>\n",
       "      <td>160.0</td>\n",
       "      <td>False</td>\n",
       "      <td>3.0</td>\n",
       "      <td>flat</td>\n",
       "      <td>NaN</td>\n",
       "      <td>NaN</td>\n",
       "      <td>0</td>\n",
       "    </tr>\n",
       "    <tr>\n",
       "      <th>822</th>\n",
       "      <td>823</td>\n",
       "      <td>48</td>\n",
       "      <td>Male</td>\n",
       "      <td>VA Long Beach</td>\n",
       "      <td>non-anginal</td>\n",
       "      <td>102.0</td>\n",
       "      <td>0.0</td>\n",
       "      <td>NaN</td>\n",
       "      <td>st-t abnormality</td>\n",
       "      <td>110.0</td>\n",
       "      <td>True</td>\n",
       "      <td>1.0</td>\n",
       "      <td>downsloping</td>\n",
       "      <td>NaN</td>\n",
       "      <td>NaN</td>\n",
       "      <td>1</td>\n",
       "    </tr>\n",
       "    <tr>\n",
       "      <th>839</th>\n",
       "      <td>840</td>\n",
       "      <td>56</td>\n",
       "      <td>Male</td>\n",
       "      <td>VA Long Beach</td>\n",
       "      <td>asymptomatic</td>\n",
       "      <td>NaN</td>\n",
       "      <td>0.0</td>\n",
       "      <td>False</td>\n",
       "      <td>lv hypertrophy</td>\n",
       "      <td>NaN</td>\n",
       "      <td>NaN</td>\n",
       "      <td>NaN</td>\n",
       "      <td>NaN</td>\n",
       "      <td>NaN</td>\n",
       "      <td>NaN</td>\n",
       "      <td>1</td>\n",
       "    </tr>\n",
       "    <tr>\n",
       "      <th>840</th>\n",
       "      <td>841</td>\n",
       "      <td>62</td>\n",
       "      <td>Male</td>\n",
       "      <td>VA Long Beach</td>\n",
       "      <td>non-anginal</td>\n",
       "      <td>NaN</td>\n",
       "      <td>0.0</td>\n",
       "      <td>True</td>\n",
       "      <td>st-t abnormality</td>\n",
       "      <td>NaN</td>\n",
       "      <td>NaN</td>\n",
       "      <td>NaN</td>\n",
       "      <td>NaN</td>\n",
       "      <td>NaN</td>\n",
       "      <td>NaN</td>\n",
       "      <td>2</td>\n",
       "    </tr>\n",
       "  </tbody>\n",
       "</table>\n",
       "<p>172 rows × 16 columns</p>\n",
       "</div>"
      ],
      "text/plain": [
       "      id  age     sex        dataset              cp  trestbps  chol    fbs  \\\n",
       "597  598   32    Male    Switzerland  typical angina      95.0   0.0    NaN   \n",
       "598  599   34    Male    Switzerland    asymptomatic     115.0   0.0    NaN   \n",
       "599  600   35    Male    Switzerland    asymptomatic       NaN   0.0    NaN   \n",
       "600  601   36    Male    Switzerland    asymptomatic     110.0   0.0    NaN   \n",
       "601  602   38  Female    Switzerland    asymptomatic     105.0   0.0    NaN   \n",
       "..   ...  ...     ...            ...             ...       ...   ...    ...   \n",
       "818  819   43    Male  VA Long Beach    asymptomatic     122.0   0.0  False   \n",
       "819  820   63    Male  VA Long Beach     non-anginal     130.0   0.0   True   \n",
       "822  823   48    Male  VA Long Beach     non-anginal     102.0   0.0    NaN   \n",
       "839  840   56    Male  VA Long Beach    asymptomatic       NaN   0.0  False   \n",
       "840  841   62    Male  VA Long Beach     non-anginal       NaN   0.0   True   \n",
       "\n",
       "              restecg  thalch  exang  oldpeak        slope  ca  \\\n",
       "597            normal   127.0  False      0.7    upsloping NaN   \n",
       "598               NaN   154.0  False      0.2    upsloping NaN   \n",
       "599            normal   130.0   True      NaN          NaN NaN   \n",
       "600            normal   125.0   True      1.0         flat NaN   \n",
       "601            normal   166.0  False      2.8    upsloping NaN   \n",
       "..                ...     ...    ...      ...          ...  ..   \n",
       "818            normal   120.0  False      0.5    upsloping NaN   \n",
       "819  st-t abnormality   160.0  False      3.0         flat NaN   \n",
       "822  st-t abnormality   110.0   True      1.0  downsloping NaN   \n",
       "839    lv hypertrophy     NaN    NaN      NaN          NaN NaN   \n",
       "840  st-t abnormality     NaN    NaN      NaN          NaN NaN   \n",
       "\n",
       "                  thal  num  \n",
       "597                NaN    1  \n",
       "598                NaN    1  \n",
       "599  reversable defect    3  \n",
       "600       fixed defect    1  \n",
       "601                NaN    2  \n",
       "..                 ...  ...  \n",
       "818                NaN    1  \n",
       "819                NaN    0  \n",
       "822                NaN    1  \n",
       "839                NaN    1  \n",
       "840                NaN    2  \n",
       "\n",
       "[172 rows x 16 columns]"
      ]
     },
     "execution_count": 49,
     "metadata": {},
     "output_type": "execute_result"
    }
   ],
   "source": [
    "df[df['chol'] < 50]"
   ]
  },
  {
   "cell_type": "markdown",
   "id": "22db2822-3539-4a0d-83c8-22df40dac872",
   "metadata": {},
   "source": [
    "### 10. Make a scatter plot of the `age` with `chol` using pandas. What do you observe - Are there any visible patterns?"
   ]
  },
  {
   "cell_type": "code",
   "execution_count": 50,
   "id": "b25b8f1e-293a-41cf-af7f-ddd6461363a1",
   "metadata": {
    "tags": []
   },
   "outputs": [
    {
     "data": {
      "text/plain": [
       "<Axes: xlabel='Age', ylabel='Cholesterol [mg/dl]'>"
      ]
     },
     "execution_count": 50,
     "metadata": {},
     "output_type": "execute_result"
    },
    {
     "data": {
      "image/png": "[encoded data removed]",
      "text/plain": [
       "<Figure size 640x480 with 1 Axes>"
      ]
     },
     "metadata": {},
     "output_type": "display_data"
    }
   ],
   "source": [
    "## Place your code here\n",
    "\n",
    "df.plot(x = \"age\", y = \"chol\", kind = \"scatter\", xlabel='Age', ylabel='Cholesterol [mg/dl]')"
   ]
  },
  {
   "cell_type": "markdown",
   "id": "59b15091-883f-4376-a09f-7bfdd4e46690",
   "metadata": {},
   "source": [
    "Place your answer here as plain text"
   ]
  }
 ],
 "metadata": {
  "kernelspec": {
   "display_name": "KP8907",
   "language": "python",
   "name": "python3"
  },
  "language_info": {
   "codemirror_mode": {
    "name": "ipython",
    "version": 3
   },
   "file_extension": ".py",
   "mimetype": "text/x-python",
   "name": "python",
   "nbconvert_exporter": "python",
   "pygments_lexer": "ipython3",
   "version": "3.13.7"
  }
 },
 "nbformat": 4,
 "nbformat_minor": 5
}
