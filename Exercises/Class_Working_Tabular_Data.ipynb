{
 "cells": [
  {
   "cell_type": "markdown",
   "id": "bc09e6c0-2f40-4f47-8105-22f2d50c44c8",
   "metadata": {},
   "source": [
    "---\n",
    "title: \"Working with tabular data\"\n",
    "subtitle: \"Basics in Python\"\n",
    "execute: \n",
    "  enabled: false\n",
    "format:\n",
    "  revealjs: \n",
    "    smaller: true\n",
    "    scrollable: true\n",
    "    code-block-height: 650px  \n",
    "    theme: dark  \n",
    "    slide-number: true\n",
    "    code-fold: false\n",
    "    chalkboard: \n",
    "      buttons: false\n",
    "    preview-links: auto\n",
    "---"
   ]
  },
  {
   "cell_type": "markdown",
   "id": "1450aaf4-9515-457e-8bf2-e343ca5365fb",
   "metadata": {
    "tags": []
   },
   "source": [
    "## Importing data\n",
    "\n",
    "By far the most ubiquitous data format is the “comma-separated values” file format – or simply the csv file format. The csv file format can be used to store a matrix. Here is how:\n",
    "\n",
    "  1. Each row of the file contains numbers separated by commas. There must be as many entries in a row as matrix columns.\n",
    "\n",
    "  2. If you start a row with “#” it will be ignored when reading the file.\n",
    "  \n",
    " - In the directory, there is file a named `data.csv`, we can read it using `pandas` library \n",
    "\n",
    " - The data is a thermodynamic table with saturated steam properties. "
   ]
  },
  {
   "cell_type": "markdown",
   "id": "3b8f5fd6-7db2-448e-b317-745b68c482ba",
   "metadata": {
    "tags": []
   },
   "source": [
    "## Reading data with `pandas`"
   ]
  },
  {
   "cell_type": "code",
   "execution_count": 14,
   "id": "c1d2269f-122f-4377-a5b8-a829e09873f6",
   "metadata": {
    "tags": []
   },
   "outputs": [
    {
     "data": {
      "text/html": [
       "<div>\n",
       "<style scoped>\n",
       "    .dataframe tbody tr th:only-of-type {\n",
       "        vertical-align: middle;\n",
       "    }\n",
       "\n",
       "    .dataframe tbody tr th {\n",
       "        vertical-align: top;\n",
       "    }\n",
       "\n",
       "    .dataframe thead th {\n",
       "        text-align: right;\n",
       "    }\n",
       "</style>\n",
       "<table border=\"1\" class=\"dataframe\">\n",
       "  <thead>\n",
       "    <tr style=\"text-align: right;\">\n",
       "      <th></th>\n",
       "      <th>Absolute Pressure (bar)</th>\n",
       "      <th>Boiling Point (oC)</th>\n",
       "      <th>Specific Volume (steam) (m3/kg)</th>\n",
       "      <th>Density (steam) (kg/m3)</th>\n",
       "      <th>Specific Enthalpy of Liquid Water (sensible heat) (kJ/kg)</th>\n",
       "      <th>Specific Enthalpy of Liquid Water (sensible heat) (kcal/kg)</th>\n",
       "      <th>Specific Enthalpy of Steam (total heat) (kJ/kg)</th>\n",
       "      <th>Specific Enthalpy of Steam (total heat) (kcal/kg)</th>\n",
       "      <th>Latent heat of Vaporization (kJ/kg)</th>\n",
       "      <th>Latent heat of Vaporization (kcal/kg)</th>\n",
       "      <th>Specific Heat (kJ/kg K)</th>\n",
       "    </tr>\n",
       "  </thead>\n",
       "  <tbody>\n",
       "    <tr>\n",
       "      <th>0</th>\n",
       "      <td>0.02</td>\n",
       "      <td>17.51</td>\n",
       "      <td>67.006</td>\n",
       "      <td>0.015</td>\n",
       "      <td>73.45</td>\n",
       "      <td>17.54</td>\n",
       "      <td>2533.64</td>\n",
       "      <td>605.15</td>\n",
       "      <td>2460.19</td>\n",
       "      <td>587.61</td>\n",
       "      <td>1.8644</td>\n",
       "    </tr>\n",
       "    <tr>\n",
       "      <th>1</th>\n",
       "      <td>0.03</td>\n",
       "      <td>24.10</td>\n",
       "      <td>45.667</td>\n",
       "      <td>0.022</td>\n",
       "      <td>101.00</td>\n",
       "      <td>24.12</td>\n",
       "      <td>2545.64</td>\n",
       "      <td>608.02</td>\n",
       "      <td>2444.65</td>\n",
       "      <td>583.89</td>\n",
       "      <td>1.8694</td>\n",
       "    </tr>\n",
       "    <tr>\n",
       "      <th>2</th>\n",
       "      <td>0.04</td>\n",
       "      <td>28.98</td>\n",
       "      <td>34.802</td>\n",
       "      <td>0.029</td>\n",
       "      <td>121.41</td>\n",
       "      <td>29.00</td>\n",
       "      <td>2554.51</td>\n",
       "      <td>610.13</td>\n",
       "      <td>2433.10</td>\n",
       "      <td>581.14</td>\n",
       "      <td>1.8736</td>\n",
       "    </tr>\n",
       "  </tbody>\n",
       "</table>\n",
       "</div>"
      ],
      "text/plain": [
       "   Absolute Pressure (bar)  Boiling Point (oC)  \\\n",
       "0                     0.02               17.51   \n",
       "1                     0.03               24.10   \n",
       "2                     0.04               28.98   \n",
       "\n",
       "   Specific Volume (steam) (m3/kg)  Density (steam) (kg/m3)  \\\n",
       "0                           67.006                    0.015   \n",
       "1                           45.667                    0.022   \n",
       "2                           34.802                    0.029   \n",
       "\n",
       "   Specific Enthalpy of Liquid Water (sensible heat) (kJ/kg)  \\\n",
       "0                                              73.45           \n",
       "1                                             101.00           \n",
       "2                                             121.41           \n",
       "\n",
       "   Specific Enthalpy of Liquid Water (sensible heat) (kcal/kg)  \\\n",
       "0                                              17.54             \n",
       "1                                              24.12             \n",
       "2                                              29.00             \n",
       "\n",
       "   Specific Enthalpy of Steam (total heat) (kJ/kg)  \\\n",
       "0                                          2533.64   \n",
       "1                                          2545.64   \n",
       "2                                          2554.51   \n",
       "\n",
       "   Specific Enthalpy of Steam (total heat) (kcal/kg)  \\\n",
       "0                                             605.15   \n",
       "1                                             608.02   \n",
       "2                                             610.13   \n",
       "\n",
       "   Latent heat of Vaporization (kJ/kg)  Latent heat of Vaporization (kcal/kg)  \\\n",
       "0                              2460.19                                 587.61   \n",
       "1                              2444.65                                 583.89   \n",
       "2                              2433.10                                 581.14   \n",
       "\n",
       "   Specific Heat (kJ/kg K)  \n",
       "0                   1.8644  \n",
       "1                   1.8694  \n",
       "2                   1.8736  "
      ]
     },
     "execution_count": 14,
     "metadata": {},
     "output_type": "execute_result"
    }
   ],
   "source": [
    "#| echo: true\n",
    "#| output-location: fragment\n",
    "\n",
    "import pandas as pd\n",
    "data = pd.read_csv('data.csv', delimiter=',')\n",
    "data.head(3)\n"
   ]
  },
  {
   "cell_type": "markdown",
   "id": "c1405d68-b829-48a9-bafb-18884cebb016",
   "metadata": {},
   "source": [
    "# Exploratory Analysis"
   ]
  },
  {
   "cell_type": "markdown",
   "id": "8bbcc539-771c-497b-aab6-cf169c29b9f0",
   "metadata": {},
   "source": [
    "## Exploratory Analysis"
   ]
  },
  {
   "cell_type": "markdown",
   "id": "8710599b-1f45-4bde-8e8d-966317234f4d",
   "metadata": {},
   "source": [
    "::: panel-tabset\n",
    "\n",
    "### Counting missing data\n",
    "\n",
    " - The first thing to check in a tabulated data set is if there's missing data.\n",
    " - That will indicate either a problem in the data set reading or just say that these records were actually missing!"
   ]
  },
  {
   "cell_type": "code",
   "execution_count": 15,
   "id": "1958ddfd-1d95-4b06-90bd-d0b25e364722",
   "metadata": {
    "tags": []
   },
   "outputs": [
    {
     "data": {
      "text/plain": [
       "Absolute Pressure (bar)                                        0\n",
       "Boiling Point (oC)                                             0\n",
       "Specific Volume (steam) (m3/kg)                                1\n",
       "Density (steam) (kg/m3)                                        1\n",
       "Specific Enthalpy of Liquid Water (sensible heat) (kJ/kg)      1\n",
       "Specific Enthalpy of Liquid Water (sensible heat) (kcal/kg)    1\n",
       "Specific Enthalpy of Steam (total heat) (kJ/kg)                1\n",
       "Specific Enthalpy of Steam (total heat) (kcal/kg)              1\n",
       "Latent heat of Vaporization (kJ/kg)                            1\n",
       "Latent heat of Vaporization (kcal/kg)                          1\n",
       "Specific Heat (kJ/kg K)                                        2\n",
       "dtype: int64"
      ]
     },
     "execution_count": 15,
     "metadata": {},
     "output_type": "execute_result"
    }
   ],
   "source": [
    "#| echo: true\n",
    "#| output-location: fragment\n",
    "data.isna().sum()"
   ]
  },
  {
   "cell_type": "markdown",
   "id": "a6db26e8-bc4a-4d55-b693-c8b1c7410884",
   "metadata": {},
   "source": [
    "### Summary Statistics\n",
    "\n",
    " - When data is missing, pandas will remove the any lines with missing information when you try to calculate anything."
   ]
  },
  {
   "cell_type": "code",
   "execution_count": 16,
   "id": "f657b025-a563-4160-81d5-d669a5fdae1d",
   "metadata": {
    "tags": []
   },
   "outputs": [
    {
     "data": {
      "text/html": [
       "<div>\n",
       "<style scoped>\n",
       "    .dataframe tbody tr th:only-of-type {\n",
       "        vertical-align: middle;\n",
       "    }\n",
       "\n",
       "    .dataframe tbody tr th {\n",
       "        vertical-align: top;\n",
       "    }\n",
       "\n",
       "    .dataframe thead th {\n",
       "        text-align: right;\n",
       "    }\n",
       "</style>\n",
       "<table border=\"1\" class=\"dataframe\">\n",
       "  <thead>\n",
       "    <tr style=\"text-align: right;\">\n",
       "      <th></th>\n",
       "      <th>Absolute Pressure (bar)</th>\n",
       "      <th>Boiling Point (oC)</th>\n",
       "      <th>Specific Volume (steam) (m3/kg)</th>\n",
       "      <th>Density (steam) (kg/m3)</th>\n",
       "      <th>Specific Enthalpy of Liquid Water (sensible heat) (kJ/kg)</th>\n",
       "      <th>Specific Enthalpy of Liquid Water (sensible heat) (kcal/kg)</th>\n",
       "      <th>Specific Enthalpy of Steam (total heat) (kJ/kg)</th>\n",
       "      <th>Specific Enthalpy of Steam (total heat) (kcal/kg)</th>\n",
       "      <th>Latent heat of Vaporization (kJ/kg)</th>\n",
       "      <th>Latent heat of Vaporization (kcal/kg)</th>\n",
       "      <th>Specific Heat (kJ/kg K)</th>\n",
       "    </tr>\n",
       "  </thead>\n",
       "  <tbody>\n",
       "    <tr>\n",
       "      <th>count</th>\n",
       "      <td>68.000000</td>\n",
       "      <td>68.000000</td>\n",
       "      <td>67.000000</td>\n",
       "      <td>67.000000</td>\n",
       "      <td>67.000000</td>\n",
       "      <td>67.000000</td>\n",
       "      <td>67.000000</td>\n",
       "      <td>67.000000</td>\n",
       "      <td>67.000000</td>\n",
       "      <td>67.000000</td>\n",
       "      <td>66.000000</td>\n",
       "    </tr>\n",
       "    <tr>\n",
       "      <th>mean</th>\n",
       "      <td>9.043235</td>\n",
       "      <td>137.210809</td>\n",
       "      <td>4.850761</td>\n",
       "      <td>14.638075</td>\n",
       "      <td>582.540149</td>\n",
       "      <td>179.799851</td>\n",
       "      <td>2684.580896</td>\n",
       "      <td>669.525970</td>\n",
       "      <td>2102.041791</td>\n",
       "      <td>500.351478</td>\n",
       "      <td>2.402277</td>\n",
       "    </tr>\n",
       "    <tr>\n",
       "      <th>std</th>\n",
       "      <td>12.242958</td>\n",
       "      <td>64.173370</td>\n",
       "      <td>11.654880</td>\n",
       "      <td>86.272061</td>\n",
       "      <td>273.605471</td>\n",
       "      <td>326.961574</td>\n",
       "      <td>263.145056</td>\n",
       "      <td>172.922353</td>\n",
       "      <td>277.318156</td>\n",
       "      <td>76.958146</td>\n",
       "      <td>0.476031</td>\n",
       "    </tr>\n",
       "    <tr>\n",
       "      <th>min</th>\n",
       "      <td>0.020000</td>\n",
       "      <td>0.255000</td>\n",
       "      <td>0.067000</td>\n",
       "      <td>0.015000</td>\n",
       "      <td>73.450000</td>\n",
       "      <td>17.540000</td>\n",
       "      <td>660.370000</td>\n",
       "      <td>605.150000</td>\n",
       "      <td>490.960000</td>\n",
       "      <td>2.469000</td>\n",
       "      <td>1.864400</td>\n",
       "    </tr>\n",
       "    <tr>\n",
       "      <th>25%</th>\n",
       "      <td>0.975000</td>\n",
       "      <td>95.910000</td>\n",
       "      <td>0.146000</td>\n",
       "      <td>0.562500</td>\n",
       "      <td>398.470000</td>\n",
       "      <td>98.250000</td>\n",
       "      <td>2668.310000</td>\n",
       "      <td>638.470000</td>\n",
       "      <td>1951.485000</td>\n",
       "      <td>466.105000</td>\n",
       "      <td>2.018375</td>\n",
       "    </tr>\n",
       "    <tr>\n",
       "      <th>50%</th>\n",
       "      <td>3.750000</td>\n",
       "      <td>136.205000</td>\n",
       "      <td>0.606000</td>\n",
       "      <td>1.908000</td>\n",
       "      <td>561.440000</td>\n",
       "      <td>139.550000</td>\n",
       "      <td>2724.660000</td>\n",
       "      <td>652.440000</td>\n",
       "      <td>2147.350000</td>\n",
       "      <td>512.890000</td>\n",
       "      <td>2.215600</td>\n",
       "    </tr>\n",
       "    <tr>\n",
       "      <th>75%</th>\n",
       "      <td>14.250000</td>\n",
       "      <td>192.460000</td>\n",
       "      <td>1.978000</td>\n",
       "      <td>7.351000</td>\n",
       "      <td>822.365000</td>\n",
       "      <td>200.000000</td>\n",
       "      <td>2786.605000</td>\n",
       "      <td>666.100000</td>\n",
       "      <td>2261.785000</td>\n",
       "      <td>540.220000</td>\n",
       "      <td>2.765700</td>\n",
       "    </tr>\n",
       "    <tr>\n",
       "      <th>max</th>\n",
       "      <td>76.000000</td>\n",
       "      <td>233.840000</td>\n",
       "      <td>67.006000</td>\n",
       "      <td>709.300000</td>\n",
       "      <td>1008.330000</td>\n",
       "      <td>2764.840000</td>\n",
       "      <td>2802.270000</td>\n",
       "      <td>2055.530000</td>\n",
       "      <td>2460.190000</td>\n",
       "      <td>587.610000</td>\n",
       "      <td>3.406900</td>\n",
       "    </tr>\n",
       "  </tbody>\n",
       "</table>\n",
       "</div>"
      ],
      "text/plain": [
       "       Absolute Pressure (bar)  Boiling Point (oC)  \\\n",
       "count                68.000000           68.000000   \n",
       "mean                  9.043235          137.210809   \n",
       "std                  12.242958           64.173370   \n",
       "min                   0.020000            0.255000   \n",
       "25%                   0.975000           95.910000   \n",
       "50%                   3.750000          136.205000   \n",
       "75%                  14.250000          192.460000   \n",
       "max                  76.000000          233.840000   \n",
       "\n",
       "       Specific Volume (steam) (m3/kg)  Density (steam) (kg/m3)  \\\n",
       "count                        67.000000                67.000000   \n",
       "mean                          4.850761                14.638075   \n",
       "std                          11.654880                86.272061   \n",
       "min                           0.067000                 0.015000   \n",
       "25%                           0.146000                 0.562500   \n",
       "50%                           0.606000                 1.908000   \n",
       "75%                           1.978000                 7.351000   \n",
       "max                          67.006000               709.300000   \n",
       "\n",
       "       Specific Enthalpy of Liquid Water (sensible heat) (kJ/kg)  \\\n",
       "count                                          67.000000           \n",
       "mean                                          582.540149           \n",
       "std                                           273.605471           \n",
       "min                                            73.450000           \n",
       "25%                                           398.470000           \n",
       "50%                                           561.440000           \n",
       "75%                                           822.365000           \n",
       "max                                          1008.330000           \n",
       "\n",
       "       Specific Enthalpy of Liquid Water (sensible heat) (kcal/kg)  \\\n",
       "count                                          67.000000             \n",
       "mean                                          179.799851             \n",
       "std                                           326.961574             \n",
       "min                                            17.540000             \n",
       "25%                                            98.250000             \n",
       "50%                                           139.550000             \n",
       "75%                                           200.000000             \n",
       "max                                          2764.840000             \n",
       "\n",
       "       Specific Enthalpy of Steam (total heat) (kJ/kg)  \\\n",
       "count                                        67.000000   \n",
       "mean                                       2684.580896   \n",
       "std                                         263.145056   \n",
       "min                                         660.370000   \n",
       "25%                                        2668.310000   \n",
       "50%                                        2724.660000   \n",
       "75%                                        2786.605000   \n",
       "max                                        2802.270000   \n",
       "\n",
       "       Specific Enthalpy of Steam (total heat) (kcal/kg)  \\\n",
       "count                                          67.000000   \n",
       "mean                                          669.525970   \n",
       "std                                           172.922353   \n",
       "min                                           605.150000   \n",
       "25%                                           638.470000   \n",
       "50%                                           652.440000   \n",
       "75%                                           666.100000   \n",
       "max                                          2055.530000   \n",
       "\n",
       "       Latent heat of Vaporization (kJ/kg)  \\\n",
       "count                            67.000000   \n",
       "mean                           2102.041791   \n",
       "std                             277.318156   \n",
       "min                             490.960000   \n",
       "25%                            1951.485000   \n",
       "50%                            2147.350000   \n",
       "75%                            2261.785000   \n",
       "max                            2460.190000   \n",
       "\n",
       "       Latent heat of Vaporization (kcal/kg)  Specific Heat (kJ/kg K)  \n",
       "count                              67.000000                66.000000  \n",
       "mean                              500.351478                 2.402277  \n",
       "std                                76.958146                 0.476031  \n",
       "min                                 2.469000                 1.864400  \n",
       "25%                               466.105000                 2.018375  \n",
       "50%                               512.890000                 2.215600  \n",
       "75%                               540.220000                 2.765700  \n",
       "max                               587.610000                 3.406900  "
      ]
     },
     "execution_count": 16,
     "metadata": {},
     "output_type": "execute_result"
    }
   ],
   "source": [
    "#| echo: true\n",
    "#| output-location: fragment\n",
    "summary = data.describe()\n",
    "summary"
   ]
  },
  {
   "cell_type": "markdown",
   "id": "6bdf5557-4843-4fbf-a596-3d67696bfa63",
   "metadata": {},
   "source": [
    ":::"
   ]
  },
  {
   "cell_type": "markdown",
   "id": "603ab6d8-db8b-4958-9d56-1a3afdd328b0",
   "metadata": {},
   "source": [
    "## Exploratory Analysis "
   ]
  },
  {
   "cell_type": "markdown",
   "id": "778ff910-ca0f-474e-9fc1-236454200e0b",
   "metadata": {},
   "source": [
    "### Actively handling missing data\n",
    "\n",
    " - `pandas` can handle automatically missing data if you do calculations in it.\n",
    " - However, if you want to do calculations using another package, errors will appear as they might not handle missing values like `pandas`"
   ]
  },
  {
   "cell_type": "markdown",
   "id": "5a86e9e1-c9a2-4ce6-8d5e-255858e74a51",
   "metadata": {
    "tags": []
   },
   "source": [
    "## Exploratory Analysis"
   ]
  },
  {
   "cell_type": "markdown",
   "id": "8987173b-0440-4604-babd-49ceff7accf1",
   "metadata": {},
   "source": [
    "### Actively handling missing data - Code"
   ]
  },
  {
   "cell_type": "code",
   "execution_count": 17,
   "id": "819cc9cf-9fb8-4ee3-86d6-d11297f3d3b5",
   "metadata": {
    "tags": []
   },
   "outputs": [],
   "source": [
    "#| echo: true\n",
    "data_no_null_rows = data.dropna(axis = 0)\n",
    "\n",
    "#Dropna drops all rows that contain at least 1 missing value"
   ]
  },
  {
   "cell_type": "code",
   "execution_count": 18,
   "id": "a5b9ec73-f30b-4e17-a00f-22f23c34a015",
   "metadata": {
    "tags": []
   },
   "outputs": [
    {
     "data": {
      "text/plain": [
       "Absolute Pressure (bar)                                        0\n",
       "Boiling Point (oC)                                             0\n",
       "Specific Volume (steam) (m3/kg)                                0\n",
       "Density (steam) (kg/m3)                                        0\n",
       "Specific Enthalpy of Liquid Water (sensible heat) (kJ/kg)      0\n",
       "Specific Enthalpy of Liquid Water (sensible heat) (kcal/kg)    0\n",
       "Specific Enthalpy of Steam (total heat) (kJ/kg)                0\n",
       "Specific Enthalpy of Steam (total heat) (kcal/kg)              0\n",
       "Latent heat of Vaporization (kJ/kg)                            0\n",
       "Latent heat of Vaporization (kcal/kg)                          0\n",
       "Specific Heat (kJ/kg K)                                        0\n",
       "dtype: int64"
      ]
     },
     "execution_count": 18,
     "metadata": {},
     "output_type": "execute_result"
    }
   ],
   "source": [
    "#| echo: true\n",
    "#| output-location: fragment\n",
    "data_no_null_rows.isna().sum()"
   ]
  },
  {
   "cell_type": "markdown",
   "id": "97a4b281-1c4c-40b5-a1e6-96b0c2381227",
   "metadata": {
    "tags": []
   },
   "source": [
    "### \n",
    "\n",
    "::: {style=\"text-align: center; margin-top: 1em\"}\n",
    "[More options in dropna](https://pandas.pydata.org/pandas-docs/stable/reference/api/pandas.DataFrame.dropna.html){preview-link=\"true\" style=\"text-align: center\"}\n",
    ":::"
   ]
  },
  {
   "cell_type": "markdown",
   "id": "33550154-19a0-46df-9817-4f0ff9f207eb",
   "metadata": {},
   "source": [
    "## Manipulating Data Frames"
   ]
  },
  {
   "cell_type": "markdown",
   "id": "f77210ca-bcc5-49d3-95d1-e7790d29eb28",
   "metadata": {},
   "source": [
    "Given our clean data frame `data_no_null_rows`, we may be interested in answering some questions with it:\n",
    "\n",
    " 1. How many rows and columns my dataframe has?\n",
    " 2. How many data points I have for a temperature above 80 degrees celsius and less than 120?\n",
    " 3. What is the temperature and pressure of the record at 75% of the data set size?\n"
   ]
  },
  {
   "cell_type": "markdown",
   "id": "bc11939c-3e57-49d9-bb68-1daca2c2447d",
   "metadata": {},
   "source": [
    "## Manipulating Data Frames"
   ]
  },
  {
   "cell_type": "markdown",
   "id": "8a15be8f-a4cb-4952-8f8d-cc834327ace5",
   "metadata": {
    "tags": []
   },
   "source": [
    "::: panel-tabset\n",
    "\n",
    "### Question 1\n",
    "\n",
    " - How many rows and columns my dataframe has?"
   ]
  },
  {
   "cell_type": "code",
   "execution_count": 19,
   "id": "773e4e92-5202-4e78-9b6e-e32b101b485d",
   "metadata": {
    "tags": []
   },
   "outputs": [
    {
     "data": {
      "text/plain": [
       "(66, 11)"
      ]
     },
     "execution_count": 19,
     "metadata": {},
     "output_type": "execute_result"
    }
   ],
   "source": [
    "#| echo: true\n",
    "#| output-location: fragment\n",
    "data_no_null_rows.shape"
   ]
  },
  {
   "cell_type": "markdown",
   "id": "93e8e3f2-8c11-40ad-810e-5f49d0e22976",
   "metadata": {},
   "source": [
    "### Question 2\n",
    "\n",
    " - How many data points I have for a temperature above 80 degrees celsius and less than 120?"
   ]
  },
  {
   "cell_type": "code",
   "execution_count": 20,
   "id": "65cdde46-a41e-41ef-90a4-6fd12617fb6f",
   "metadata": {
    "tags": []
   },
   "outputs": [
    {
     "data": {
      "text/plain": [
       "0    True\n",
       "1    True\n",
       "2    True\n",
       "Name: Boiling Point (oC), dtype: bool"
      ]
     },
     "execution_count": 20,
     "metadata": {},
     "output_type": "execute_result"
    }
   ],
   "source": [
    "#| echo: true\n",
    "#| output-location: fragment\n",
    "#| code-line-numbers: \"|1|2|3\"\n",
    "above_80 = data_no_null_rows[\"Boiling Point (oC)\"] > 80.0\n",
    "below_120 = data_no_null_rows[\"Boiling Point (oC)\"] < 120.0\n",
    "below_120.head(3)"
   ]
  },
  {
   "cell_type": "code",
   "execution_count": 21,
   "id": "4e237ad5-d830-4604-962e-59030584057a",
   "metadata": {
    "tags": []
   },
   "outputs": [
    {
     "data": {
      "text/plain": [
       "(15, 11)"
      ]
     },
     "execution_count": 21,
     "metadata": {},
     "output_type": "execute_result"
    }
   ],
   "source": [
    "#| echo: true\n",
    "#| output-location: fragment\n",
    "a80_b120 = above_80 & below_120\n",
    "data_no_null_rows[a80_b120].shape"
   ]
  },
  {
   "cell_type": "markdown",
   "id": "431409e1-eb13-4d53-b0e7-a1ecdac36163",
   "metadata": {},
   "source": [
    "### Question 3\n",
    "\n",
    " - What is the temperature and pressure of the record at 75% of the data set size?"
   ]
  },
  {
   "cell_type": "code",
   "execution_count": 22,
   "id": "b75da415-9d3d-4620-8c8c-9014084eca68",
   "metadata": {
    "tags": []
   },
   "outputs": [
    {
     "data": {
      "text/plain": [
       "Boiling Point (oC)         187.96\n",
       "Absolute Pressure (bar)     12.00\n",
       "Name: 49, dtype: float64"
      ]
     },
     "execution_count": 22,
     "metadata": {},
     "output_type": "execute_result"
    }
   ],
   "source": [
    "#| echo: true\n",
    "#| output-location: fragment\n",
    "#| code-line-numbers: \"|1|2\"\n",
    "idx_75 = int(data_no_null_rows.shape[0]*.75)\n",
    "data_no_null_rows.loc[idx_75, [\"Boiling Point (oC)\", \"Absolute Pressure (bar)\"]]"
   ]
  },
  {
   "cell_type": "markdown",
   "id": "0d2e9247-dc88-4816-bf86-7b7f0e655369",
   "metadata": {
    "tags": []
   },
   "source": [
    ":::"
   ]
  },
  {
   "cell_type": "markdown",
   "id": "5c023ded-1ae6-47e6-96a0-b4e6485719a1",
   "metadata": {
    "tags": []
   },
   "source": [
    "## Data visualization"
   ]
  },
  {
   "cell_type": "markdown",
   "id": "611e6dcc-16b9-46c7-87f2-a961be9fcb96",
   "metadata": {},
   "source": [
    "Python has many visualization libraries. Here are some popular ones for data science:\n",
    "\n",
    " - [Matplotlib](https://matplotlib.org/)\n",
    " - [seaborn](https://seaborn.pydata.org/)\n",
    " - [plotly](https://plotly.com/python/)"
   ]
  },
  {
   "cell_type": "markdown",
   "id": "94c6fe67-3b91-43ac-b191-f481400c9f1e",
   "metadata": {},
   "source": [
    "## Data Visualization"
   ]
  },
  {
   "cell_type": "markdown",
   "id": "a3b9c2ab-420e-4f7c-862d-39e197ef902d",
   "metadata": {
    "tags": []
   },
   "source": [
    "::: panel-tabset\n",
    "\n",
    "### 2D - scatterplots"
   ]
  },
  {
   "cell_type": "code",
   "execution_count": 23,
   "id": "3b0dfefa-35f0-4996-af61-682e2836e58d",
   "metadata": {
    "tags": []
   },
   "outputs": [
    {
     "data": {
      "text/plain": [
       "<Axes: xlabel='Boiling Point (oC)', ylabel='Absolute Pressure (bar)'>"
      ]
     },
     "execution_count": 23,
     "metadata": {},
     "output_type": "execute_result"
    },
    {
     "data": {
      "image/png": "[encoded data removed]",
      "text/plain": [
       "<Figure size 500x250 with 1 Axes>"
      ]
     },
     "metadata": {},
     "output_type": "display_data"
    }
   ],
   "source": [
    "#| echo: true\n",
    "#| output-location: fragment\n",
    "#| label: T-P\n",
    "#| fig-width: 8\n",
    "#| fig-height: 2.5\n",
    "#| fig-cap: \"Temperature vs Pressure - Satured Steam\"\n",
    "import matplotlib.pyplot as plt\n",
    "plt.rcParams[\"figure.figsize\"] = (5.0, 2.5)\n",
    "data_no_null_rows.plot(x = \"Boiling Point (oC)\", y = \"Absolute Pressure (bar)\", kind = \"scatter\")"
   ]
  },
  {
   "cell_type": "markdown",
   "id": "b680a447-8138-46c8-a1f7-6c3235e5c356",
   "metadata": {},
   "source": [
    " - You can also plot without using `pandas`"
   ]
  },
  {
   "cell_type": "code",
   "execution_count": 24,
   "id": "4cedb7e7-4c47-4764-8a8b-7dc1339f48c1",
   "metadata": {
    "tags": []
   },
   "outputs": [
    {
     "data": {
      "text/plain": [
       "Text(0, 0.5, 'Absolute Pressure (bar)')"
      ]
     },
     "execution_count": 24,
     "metadata": {},
     "output_type": "execute_result"
    },
    {
     "data": {
      "image/png": "[encoded data removed]",
      "text/plain": [
       "<Figure size 500x250 with 1 Axes>"
      ]
     },
     "metadata": {},
     "output_type": "display_data"
    }
   ],
   "source": [
    "#| echo: true\n",
    "#| output-location: fragment\n",
    "#| code-line-numbers: \"|1|2|3\"\n",
    "plt.scatter(data_no_null_rows[\"Boiling Point (oC)\"], data_no_null_rows[\"Absolute Pressure (bar)\"])\n",
    "plt.xlabel(\"Boiling Point (oC)\")\n",
    "plt.ylabel(\"Absolute Pressure (bar)\")"
   ]
  },
  {
   "cell_type": "markdown",
   "id": "78b7ee88-3c09-4962-ab03-f4c8bbf7579a",
   "metadata": {},
   "source": [
    "### 2D - histograms"
   ]
  },
  {
   "cell_type": "code",
   "execution_count": 25,
   "id": "97e29ffd-f0cf-47ba-a9d1-dd9a077caf28",
   "metadata": {
    "tags": []
   },
   "outputs": [
    {
     "data": {
      "text/plain": [
       "array([[<Axes: title={'center': 'Boiling Point (oC)'}>,\n",
       "        <Axes: title={'center': 'Absolute Pressure (bar)'}>]],\n",
       "      dtype=object)"
      ]
     },
     "execution_count": 25,
     "metadata": {},
     "output_type": "execute_result"
    },
    {
     "data": {
      "image/png": "[encoded data removed]",
      "text/plain": [
       "<Figure size 500x250 with 2 Axes>"
      ]
     },
     "metadata": {},
     "output_type": "display_data"
    }
   ],
   "source": [
    "#| echo: true\n",
    "#| output-location: fragment\n",
    "#| label: histogram\n",
    "#| fig-width: 8\n",
    "#| fig-height: 2.5\n",
    "#| fig-cap: \"Histograms\"\n",
    "data_no_null_rows.hist([\"Boiling Point (oC)\", \"Absolute Pressure (bar)\"])"
   ]
  },
  {
   "cell_type": "markdown",
   "id": "07266c06-cc98-4e5b-87b4-10ac34fbd356",
   "metadata": {},
   "source": [
    "### 2D - Box plot"
   ]
  },
  {
   "cell_type": "code",
   "execution_count": 26,
   "id": "6d4bca20-68e7-44fc-ac70-caac6bd35821",
   "metadata": {
    "tags": []
   },
   "outputs": [
    {
     "data": {
      "text/plain": [
       "<Axes: >"
      ]
     },
     "execution_count": 26,
     "metadata": {},
     "output_type": "execute_result"
    },
    {
     "data": {
      "image/png": "[encoded data removed]",
      "text/plain": [
       "<Figure size 500x250 with 1 Axes>"
      ]
     },
     "metadata": {},
     "output_type": "display_data"
    }
   ],
   "source": [
    "#| echo: true\n",
    "#| output-location: fragment\n",
    "#| label: boxplot\n",
    "#| fig-width: 8\n",
    "#| fig-height: 2.5\n",
    "#| fig-cap: \"Boxplot\"\n",
    "data_no_null_rows.boxplot([\"Boiling Point (oC)\", \"Absolute Pressure (bar)\"])"
   ]
  },
  {
   "cell_type": "markdown",
   "id": "88d4d3df-9ff6-4b1a-903b-7989523923af",
   "metadata": {},
   "source": [
    ":::"
   ]
  }
 ],
 "metadata": {
  "kernelspec": {
   "display_name": "KP8907",
   "language": "python",
   "name": "python3"
  },
  "language_info": {
   "codemirror_mode": {
    "name": "ipython",
    "version": 3
   },
   "file_extension": ".py",
   "mimetype": "text/x-python",
   "name": "python",
   "nbconvert_exporter": "python",
   "pygments_lexer": "ipython3",
   "version": "3.13.7"
  }
 },
 "nbformat": 4,
 "nbformat_minor": 5
}
