{
 "cells": [
  {
   "cell_type": "markdown",
   "id": "ae0492de",
   "metadata": {},
   "source": [
    "---\n",
    "title: \"Python Basics\"\n",
    "subtitle: \"-\"\n",
    "execute: \n",
    "  enabled: false\n",
    "format:\n",
    "  revealjs: \n",
    "    smaller: true\n",
    "    scrollable: true\n",
    "    code-block-height: 650px  \n",
    "    theme: dark  \n",
    "    slide-number: true\n",
    "    code-fold: false\n",
    "    chalkboard: \n",
    "      buttons: false\n",
    "    preview-links: auto\n",
    "---"
   ]
  },
  {
   "cell_type": "markdown",
   "id": "ffde549d",
   "metadata": {},
   "source": [
    "# Data Arrays"
   ]
  },
  {
   "cell_type": "markdown",
   "id": "0d36a0f3",
   "metadata": {},
   "source": [
    "A sequence is a collection of ordered objects. Ordered in the sense you can assign indexes to its elements - the first, the second and so on. Being able to store data in sequences is very useful for data science.\n",
    "\n",
    "There are two ways you can have sequences in Python. You can use have tuple’s or list’s. The difference between the two is that tuple are frozen (you cannot change them once you make them) but you can add or remove items for list’s. Let’s look at tuples first."
   ]
  },
  {
   "cell_type": "markdown",
   "id": "70387563",
   "metadata": {},
   "source": [
    "## Tuples"
   ]
  },
  {
   "cell_type": "markdown",
   "id": "d436bfd7",
   "metadata": {},
   "source": [
    "In Python, you can create a tuple by placing comma-separated elements within parentheses."
   ]
  },
  {
   "cell_type": "code",
   "execution_count": 1,
   "id": "4bac3078",
   "metadata": {},
   "outputs": [
    {
     "name": "stdout",
     "output_type": "stream",
     "text": [
      "(1, 2, 3)\n"
     ]
    }
   ],
   "source": [
    "#Populating a tuple with Integers\n",
    "x = (1, 2, 3)\n",
    "print(x)"
   ]
  },
  {
   "cell_type": "markdown",
   "id": "19c8e82c",
   "metadata": {},
   "source": [
    "You can get the first element of your tuple by using square brackets and passing the indexing. Remember that Python has an index system where the first element index is 0."
   ]
  },
  {
   "cell_type": "code",
   "execution_count": 2,
   "id": "f142e403",
   "metadata": {},
   "outputs": [
    {
     "data": {
      "text/plain": [
       "1"
      ]
     },
     "execution_count": 2,
     "metadata": {},
     "output_type": "execute_result"
    }
   ],
   "source": [
    "#Getting the first element\n",
    "x[0]"
   ]
  },
  {
   "cell_type": "markdown",
   "id": "3063d49b",
   "metadata": {},
   "source": [
    "You can populate tuples with different data types:"
   ]
  },
  {
   "cell_type": "code",
   "execution_count": 3,
   "id": "bb31432c",
   "metadata": {
    "scrolled": true
   },
   "outputs": [
    {
     "name": "stdout",
     "output_type": "stream",
     "text": [
      "('vinicius', 1, 3.1415)\n"
     ]
    }
   ],
   "source": [
    "mytuple = (\"vinicius\", 1, 3.1415)\n",
    "print(mytuple)"
   ]
  },
  {
   "cell_type": "markdown",
   "id": "2962e87f",
   "metadata": {},
   "source": [
    "You cannot remove, add or modify the elements of a tuple! **Tuples are immutable objects in Python**"
   ]
  },
  {
   "cell_type": "code",
   "execution_count": 4,
   "id": "1dcf029f",
   "metadata": {},
   "outputs": [],
   "source": [
    "# mytuple[0] = \"Bjorn\""
   ]
  },
  {
   "cell_type": "markdown",
   "id": "776a49c3",
   "metadata": {},
   "source": [
    "## Lists"
   ]
  },
  {
   "cell_type": "markdown",
   "id": "ae6e9009",
   "metadata": {},
   "source": [
    "Lists are similar to tuples, containers of many things, but they can be modified - delete elements, add elements, change existing elements. Here is a list with different objects inside (including another list):"
   ]
  },
  {
   "cell_type": "code",
   "execution_count": 5,
   "id": "a5134984",
   "metadata": {},
   "outputs": [
    {
     "name": "stdout",
     "output_type": "stream",
     "text": [
      "['Vinicius', 1.0, 3.1415, ['google.com']]\n"
     ]
    }
   ],
   "source": [
    "mylist = [\"Vinicius\", 1.0, 3.1415, [\"google.com\"]]\n",
    "print(mylist)"
   ]
  },
  {
   "cell_type": "markdown",
   "id": "d6557109",
   "metadata": {},
   "source": [
    "You can also instantiate an empty list!"
   ]
  },
  {
   "cell_type": "code",
   "execution_count": 6,
   "id": "fc3b1fc6",
   "metadata": {},
   "outputs": [
    {
     "name": "stdout",
     "output_type": "stream",
     "text": [
      "[]\n"
     ]
    }
   ],
   "source": [
    "myemptylist = []\n",
    "print(myemptylist)"
   ]
  },
  {
   "cell_type": "markdown",
   "id": "1130e14e",
   "metadata": {},
   "source": [
    "You can modify existing elements of a list."
   ]
  },
  {
   "cell_type": "code",
   "execution_count": 7,
   "id": "b9583272",
   "metadata": {},
   "outputs": [],
   "source": [
    "mylist[0] = \"Bjorn\""
   ]
  },
  {
   "cell_type": "code",
   "execution_count": 8,
   "id": "bd004915",
   "metadata": {},
   "outputs": [
    {
     "name": "stdout",
     "output_type": "stream",
     "text": [
      "['Bjorn', 1.0, 3.1415, ['google.com']]\n"
     ]
    }
   ],
   "source": [
    "print(mylist)"
   ]
  },
  {
   "cell_type": "markdown",
   "id": "163e8ca6",
   "metadata": {},
   "source": [
    "You can count how many elements are in a list (it's the same for tuples) using the ``len`` function."
   ]
  },
  {
   "cell_type": "code",
   "execution_count": 9,
   "id": "8e4fd22a",
   "metadata": {},
   "outputs": [
    {
     "data": {
      "text/plain": [
       "4"
      ]
     },
     "execution_count": 9,
     "metadata": {},
     "output_type": "execute_result"
    }
   ],
   "source": [
    "len(mylist)"
   ]
  },
  {
   "cell_type": "markdown",
   "id": "2efa6ca9",
   "metadata": {},
   "source": [
    "You can do many things with lists. If you want to know all the things you can do with lists (and any other Python object), you can using the ``help()`` command:"
   ]
  },
  {
   "cell_type": "code",
   "execution_count": 10,
   "id": "a10fd804",
   "metadata": {},
   "outputs": [
    {
     "name": "stdout",
     "output_type": "stream",
     "text": [
      "Help on list object:\n",
      "\n",
      "class list(object)\n",
      " |  list(iterable=(), /)\n",
      " |\n",
      " |  Built-in mutable sequence.\n",
      " |\n",
      " |  If no argument is given, the constructor creates a new empty list.\n",
      " |  The argument must be an iterable if specified.\n",
      " |\n",
      " |  Methods defined here:\n",
      " |\n",
      " |  __add__(self, value, /)\n",
      " |      Return self+value.\n",
      " |\n",
      " |  __contains__(self, key, /)\n",
      " |      Return bool(key in self).\n",
      " |\n",
      " |  __delitem__(self, key, /)\n",
      " |      Delete self[key].\n",
      " |\n",
      " |  __eq__(self, value, /)\n",
      " |      Return self==value.\n",
      " |\n",
      " |  __ge__(self, value, /)\n",
      " |      Return self>=value.\n",
      " |\n",
      " |  __getattribute__(self, name, /)\n",
      " |      Return getattr(self, name).\n",
      " |\n",
      " |  __getitem__(self, index, /)\n",
      " |      Return self[index].\n",
      " |\n",
      " |  __gt__(self, value, /)\n",
      " |      Return self>value.\n",
      " |\n",
      " |  __iadd__(self, value, /)\n",
      " |      Implement self+=value.\n",
      " |\n",
      " |  __imul__(self, value, /)\n",
      " |      Implement self*=value.\n",
      " |\n",
      " |  __init__(self, /, *args, **kwargs)\n",
      " |      Initialize self.  See help(type(self)) for accurate signature.\n",
      " |\n",
      " |  __iter__(self, /)\n",
      " |      Implement iter(self).\n",
      " |\n",
      " |  __le__(self, value, /)\n",
      " |      Return self<=value.\n",
      " |\n",
      " |  __len__(self, /)\n",
      " |      Return len(self).\n",
      " |\n",
      " |  __lt__(self, value, /)\n",
      " |      Return self<value.\n",
      " |\n",
      " |  __mul__(self, value, /)\n",
      " |      Return self*value.\n",
      " |\n",
      " |  __ne__(self, value, /)\n",
      " |      Return self!=value.\n",
      " |\n",
      " |  __repr__(self, /)\n",
      " |      Return repr(self).\n",
      " |\n",
      " |  __reversed__(self, /)\n",
      " |      Return a reverse iterator over the list.\n",
      " |\n",
      " |  __rmul__(self, value, /)\n",
      " |      Return value*self.\n",
      " |\n",
      " |  __setitem__(self, key, value, /)\n",
      " |      Set self[key] to value.\n",
      " |\n",
      " |  __sizeof__(self, /)\n",
      " |      Return the size of the list in memory, in bytes.\n",
      " |\n",
      " |  append(self, object, /)\n",
      " |      Append object to the end of the list.\n",
      " |\n",
      " |  clear(self, /)\n",
      " |      Remove all items from list.\n",
      " |\n",
      " |  copy(self, /)\n",
      " |      Return a shallow copy of the list.\n",
      " |\n",
      " |  count(self, value, /)\n",
      " |      Return number of occurrences of value.\n",
      " |\n",
      " |  extend(self, iterable, /)\n",
      " |      Extend list by appending elements from the iterable.\n",
      " |\n",
      " |  index(self, value, start=0, stop=9223372036854775807, /)\n",
      " |      Return first index of value.\n",
      " |\n",
      " |      Raises ValueError if the value is not present.\n",
      " |\n",
      " |  insert(self, index, object, /)\n",
      " |      Insert object before index.\n",
      " |\n",
      " |  pop(self, index=-1, /)\n",
      " |      Remove and return item at index (default last).\n",
      " |\n",
      " |      Raises IndexError if list is empty or index is out of range.\n",
      " |\n",
      " |  remove(self, value, /)\n",
      " |      Remove first occurrence of value.\n",
      " |\n",
      " |      Raises ValueError if the value is not present.\n",
      " |\n",
      " |  reverse(self, /)\n",
      " |      Reverse *IN PLACE*.\n",
      " |\n",
      " |  sort(self, /, *, key=None, reverse=False)\n",
      " |      Sort the list in ascending order and return None.\n",
      " |\n",
      " |      The sort is in-place (i.e. the list itself is modified) and stable (i.e. the\n",
      " |      order of two equal elements is maintained).\n",
      " |\n",
      " |      If a key function is given, apply it once to each list item and sort them,\n",
      " |      ascending or descending, according to their function values.\n",
      " |\n",
      " |      The reverse flag can be set to sort in descending order.\n",
      " |\n",
      " |  ----------------------------------------------------------------------\n",
      " |  Class methods defined here:\n",
      " |\n",
      " |  __class_getitem__(object, /)\n",
      " |      See PEP 585\n",
      " |\n",
      " |  ----------------------------------------------------------------------\n",
      " |  Static methods defined here:\n",
      " |\n",
      " |  __new__(*args, **kwargs)\n",
      " |      Create and return a new object.  See help(type) for accurate signature.\n",
      " |\n",
      " |  ----------------------------------------------------------------------\n",
      " |  Data and other attributes defined here:\n",
      " |\n",
      " |  __hash__ = None\n",
      "\n"
     ]
    }
   ],
   "source": [
    "help([mylist])"
   ]
  },
  {
   "cell_type": "markdown",
   "id": "7ed70319",
   "metadata": {},
   "source": [
    "let's try the ``pop`` command to remove the first element of my list."
   ]
  },
  {
   "cell_type": "code",
   "execution_count": 11,
   "id": "f09189d9",
   "metadata": {},
   "outputs": [
    {
     "data": {
      "text/plain": [
       "'Bjorn'"
      ]
     },
     "execution_count": 11,
     "metadata": {},
     "output_type": "execute_result"
    }
   ],
   "source": [
    "mylist.pop(0)"
   ]
  },
  {
   "cell_type": "markdown",
   "id": "b3cfc6b6",
   "metadata": {},
   "source": [
    "It prints which element I removed"
   ]
  },
  {
   "cell_type": "code",
   "execution_count": 12,
   "id": "195d26a1",
   "metadata": {
    "scrolled": true
   },
   "outputs": [
    {
     "name": "stdout",
     "output_type": "stream",
     "text": [
      "[1.0, 3.1415, ['google.com']]\n"
     ]
    }
   ],
   "source": [
    "print(mylist)"
   ]
  },
  {
   "cell_type": "code",
   "execution_count": 13,
   "id": "63d0d12a",
   "metadata": {},
   "outputs": [
    {
     "data": {
      "text/plain": [
       "str"
      ]
     },
     "execution_count": 13,
     "metadata": {},
     "output_type": "execute_result"
    }
   ],
   "source": [
    "type(\"vene\")"
   ]
  },
  {
   "cell_type": "markdown",
   "id": "c9dedfa0",
   "metadata": {},
   "source": [
    "You can also iterate over the elements of a list. Let's say you want to find out if there's a string in your list. For small lists, you can look manually. However, if it's large,  you could do a for loop!\n"
   ]
  },
  {
   "cell_type": "code",
   "execution_count": 14,
   "id": "c8a3ec48",
   "metadata": {},
   "outputs": [
    {
     "name": "stdout",
     "output_type": "stream",
     "text": [
      "There is a string in my list\n"
     ]
    }
   ],
   "source": [
    "mysecondlist = [1, \"Vinicius\"]\n",
    "\n",
    "for element in mysecondlist:\n",
    "    if type(element) == str:\n",
    "        print(\"There is a string in my list\")"
   ]
  },
  {
   "cell_type": "markdown",
   "id": "103311c3",
   "metadata": {},
   "source": [
    "## Matrices"
   ]
  },
  {
   "cell_type": "markdown",
   "id": "802b3549",
   "metadata": {},
   "source": [
    "While lists and tuples are sequences and can only index their elements with a single number, we often need more complex structures, such as matrices, which require indexing with more than one number."
   ]
  },
  {
   "cell_type": "markdown",
   "id": "2ea7b527",
   "metadata": {},
   "source": [
    "Lists and tuples are built-in elements of Python. To work with matrices, we need to use external numerical libraries. ``Numpy``is the recommended library for it"
   ]
  },
  {
   "cell_type": "code",
   "execution_count": 15,
   "id": "ce2950ce",
   "metadata": {},
   "outputs": [],
   "source": [
    "import numpy as np #Making a shorter name through \"as\" keyword"
   ]
  },
  {
   "cell_type": "code",
   "execution_count": 16,
   "id": "560d31aa",
   "metadata": {},
   "outputs": [],
   "source": [
    "# Creating a matrix\n",
    "matrix = np.array([[1, 2, 3],\n",
    "                   [4, 5, 6],\n",
    "                   [7, 8, 9]])\n"
   ]
  },
  {
   "cell_type": "code",
   "execution_count": 17,
   "id": "b8e48324",
   "metadata": {
    "scrolled": true
   },
   "outputs": [
    {
     "name": "stdout",
     "output_type": "stream",
     "text": [
      "\n",
      "Element at (0, 0): 1\n",
      "Element at (1, 2): 6\n"
     ]
    }
   ],
   "source": [
    "# Accessing elements\n",
    "print(\"\\nElement at (0, 0):\", matrix[0, 0])\n",
    "print(\"Element at (1, 2):\", matrix[1, 2])\n"
   ]
  },
  {
   "cell_type": "markdown",
   "id": "be7956b6",
   "metadata": {},
   "source": [
    "### Slicing\n",
    "\n",
    "You can \"slice\" matrix elements in very different ways in Python"
   ]
  },
  {
   "cell_type": "code",
   "execution_count": 18,
   "id": "ef23b3c3",
   "metadata": {},
   "outputs": [
    {
     "name": "stdout",
     "output_type": "stream",
     "text": [
      "\n",
      "First row: [1 2 3]\n",
      "Second column: [2 5 8]\n"
     ]
    }
   ],
   "source": [
    "# Basic Slicing\n",
    "print(\"\\nFirst row:\", matrix[0, :])\n",
    "print(\"Second column:\", matrix[:, 1])"
   ]
  },
  {
   "cell_type": "code",
   "execution_count": 19,
   "id": "70fbf300",
   "metadata": {},
   "outputs": [
    {
     "name": "stdout",
     "output_type": "stream",
     "text": [
      "\n",
      "Every other element in the first row:\n",
      "[1 3]\n",
      "Explanation: This slices the first row to get every other element (step size of 2).\n"
     ]
    }
   ],
   "source": [
    "# Slicing with step\n",
    "print(\"\\nEvery other element in the first row:\")\n",
    "every_other_element = matrix[0, 0::2]\n",
    "print(every_other_element)\n",
    "print(\"Explanation: This slices the first row to get every other element (step size of 2).\")"
   ]
  },
  {
   "cell_type": "code",
   "execution_count": 20,
   "id": "e5e256ab",
   "metadata": {},
   "outputs": [
    {
     "name": "stdout",
     "output_type": "stream",
     "text": [
      "\n",
      "Reversed rows:\n",
      "[[7 8 9]\n",
      " [4 5 6]\n",
      " [1 2 3]]\n",
      "Explanation: This reverses the rows of the matrix.\n"
     ]
    }
   ],
   "source": [
    "# Reverse slicing\n",
    "print(\"\\nReversed rows:\")\n",
    "reversed_rows = matrix[-1::-1] # Starting from last element up to the first with step size 1\n",
    "print(reversed_rows)\n",
    "print(\"Explanation: This reverses the rows of the matrix.\")"
   ]
  },
  {
   "cell_type": "markdown",
   "id": "b73052c3",
   "metadata": {},
   "source": [
    "### Operations"
   ]
  },
  {
   "cell_type": "markdown",
   "id": "21bab454",
   "metadata": {},
   "source": [
    "Matrix addition is the simplest operation you can do with two matrices."
   ]
  },
  {
   "cell_type": "code",
   "execution_count": 21,
   "id": "ac111c3f",
   "metadata": {},
   "outputs": [
    {
     "name": "stdout",
     "output_type": "stream",
     "text": [
      "[[10 10 10]\n",
      " [10 10 10]\n",
      " [10 10 10]]\n"
     ]
    }
   ],
   "source": [
    "matrix = np.array([[1, 2, 3],\n",
    "                   [4, 5, 6],\n",
    "                   [7, 8, 9]])\n",
    "\n",
    "\n",
    "matrix2 = np.array([[9, 8, 7],\n",
    "                    [6, 5, 4],\n",
    "                    [3, 2, 1]])\n",
    "\n",
    "print(matrix + matrix2)"
   ]
  },
  {
   "cell_type": "markdown",
   "id": "0b919799",
   "metadata": {},
   "source": [
    "What about summing a matrix with a vector?"
   ]
  },
  {
   "cell_type": "code",
   "execution_count": 22,
   "id": "7d550486",
   "metadata": {},
   "outputs": [
    {
     "name": "stdout",
     "output_type": "stream",
     "text": [
      "Matrix shape is: (3, 3)\n",
      "Vector shape is: (1, 3)\n"
     ]
    }
   ],
   "source": [
    "matrix = np.array([[1, 2, 3],\n",
    "                   [4, 5, 6],\n",
    "                   [7, 8, 9]])\n",
    "\n",
    "vector = np.array([[1, 2, 3]]) #My array has one element and inside this element there are 3 other elements.\n",
    "\n",
    "print(\"Matrix shape is:\", matrix.shape)\n",
    "print(\"Vector shape is:\", vector.shape)"
   ]
  },
  {
   "cell_type": "markdown",
   "id": "346012c2",
   "metadata": {},
   "source": [
    "This operation should not work, right?"
   ]
  },
  {
   "cell_type": "code",
   "execution_count": 23,
   "id": "da2a871f",
   "metadata": {},
   "outputs": [
    {
     "data": {
      "text/plain": [
       "array([[ 2,  4,  6],\n",
       "       [ 5,  7,  9],\n",
       "       [ 8, 10, 12]])"
      ]
     },
     "execution_count": 23,
     "metadata": {},
     "output_type": "execute_result"
    }
   ],
   "source": [
    "matrix + vector"
   ]
  },
  {
   "cell_type": "markdown",
   "id": "d09ca74b",
   "metadata": {},
   "source": [
    "In NumPy, broadcasting allows operations on arrays of different shapes. Broadcasting automatically expands the dimensions of the smaller array to match the larger array by repeating its elements along the mismatched dimensions, making the arrays compatible for element-wise operations."
   ]
  },
  {
   "cell_type": "markdown",
   "id": "c1f3e983",
   "metadata": {},
   "source": [
    "It does the same for the ``*`` operation"
   ]
  },
  {
   "cell_type": "code",
   "execution_count": 24,
   "id": "8e0871f3",
   "metadata": {},
   "outputs": [
    {
     "data": {
      "text/plain": [
       "array([[ 1,  4,  9],\n",
       "       [ 4, 10, 18],\n",
       "       [ 7, 16, 27]])"
      ]
     },
     "execution_count": 24,
     "metadata": {},
     "output_type": "execute_result"
    }
   ],
   "source": [
    "matrix*vector"
   ]
  },
  {
   "cell_type": "markdown",
   "id": "afb31783",
   "metadata": {},
   "source": [
    "If you want to make sure your operations follows what you know about linear algebra regarding matrix multiplication, use the ``dot`` operation instead of ``*``.\n",
    "\n",
    "For the ``+`` operation, there is no other way. You have to be intentional on the way you write the code."
   ]
  },
  {
   "cell_type": "code",
   "execution_count": 25,
   "id": "58d0c742",
   "metadata": {},
   "outputs": [],
   "source": [
    "# np.dot(matrix, vector) ## that fails"
   ]
  },
  {
   "cell_type": "code",
   "execution_count": 26,
   "id": "1d1f771a",
   "metadata": {
    "scrolled": true
   },
   "outputs": [
    {
     "data": {
      "text/plain": [
       "array([[30, 36, 42]])"
      ]
     },
     "execution_count": 26,
     "metadata": {},
     "output_type": "execute_result"
    }
   ],
   "source": [
    "np.dot(vector, matrix) ## That works as we know from linear algebra!"
   ]
  },
  {
   "cell_type": "markdown",
   "id": "e89abbb9",
   "metadata": {},
   "source": [
    "You can also apply functions to the elements of a numpy array:"
   ]
  },
  {
   "cell_type": "code",
   "execution_count": 27,
   "id": "f7204793",
   "metadata": {},
   "outputs": [
    {
     "data": {
      "text/plain": [
       "array([[0.76159416, 0.96402758, 0.99505475]])"
      ]
     },
     "execution_count": 27,
     "metadata": {},
     "output_type": "execute_result"
    }
   ],
   "source": [
    "np.tanh(vector)"
   ]
  },
  {
   "cell_type": "code",
   "execution_count": 28,
   "id": "ee0bfd64",
   "metadata": {
    "scrolled": true
   },
   "outputs": [
    {
     "data": {
      "text/plain": [
       "array([[0.        , 0.69314718, 1.09861229]])"
      ]
     },
     "execution_count": 28,
     "metadata": {},
     "output_type": "execute_result"
    }
   ],
   "source": [
    "np.log(vector)"
   ]
  },
  {
   "cell_type": "code",
   "execution_count": 29,
   "id": "79aeec8a",
   "metadata": {},
   "outputs": [
    {
     "data": {
      "text/plain": [
       "array([[ 1.55740772, -2.18503986, -0.14254654]])"
      ]
     },
     "execution_count": 29,
     "metadata": {},
     "output_type": "execute_result"
    }
   ],
   "source": [
    "np.tan(vector)"
   ]
  },
  {
   "cell_type": "markdown",
   "id": "9df2c2bf",
   "metadata": {},
   "source": [
    "<div class=\"alert alert-block alert-warning\"><b>Attention:</b> Vector*Vector or Matrix*Matrix does not perform dot product. It squares each element of the vector or matrix! </div>"
   ]
  },
  {
   "cell_type": "code",
   "execution_count": 30,
   "id": "415e7227",
   "metadata": {},
   "outputs": [
    {
     "data": {
      "text/plain": [
       "array([[1, 4, 9]])"
      ]
     },
     "execution_count": 30,
     "metadata": {},
     "output_type": "execute_result"
    }
   ],
   "source": [
    "vector*vector #Squares each element of the vector (it's not dot product)"
   ]
  },
  {
   "cell_type": "code",
   "execution_count": 31,
   "id": "ae737d2a",
   "metadata": {},
   "outputs": [
    {
     "data": {
      "text/plain": [
       "array([[ 1,  4,  9],\n",
       "       [16, 25, 36],\n",
       "       [49, 64, 81]])"
      ]
     },
     "execution_count": 31,
     "metadata": {},
     "output_type": "execute_result"
    }
   ],
   "source": [
    "matrix*matrix #Squares each element of the matrix"
   ]
  },
  {
   "cell_type": "code",
   "execution_count": 32,
   "id": "c48b4ea4",
   "metadata": {},
   "outputs": [
    {
     "data": {
      "text/plain": [
       "array([[ 30,  36,  42],\n",
       "       [ 66,  81,  96],\n",
       "       [102, 126, 150]])"
      ]
     },
     "execution_count": 32,
     "metadata": {},
     "output_type": "execute_result"
    }
   ],
   "source": [
    "np.dot(matrix, matrix) #Do matrix, matrix multiplication as in Linear Algebra"
   ]
  }
 ],
 "metadata": {
  "kernelspec": {
   "display_name": "KP8907",
   "language": "python",
   "name": "python3"
  },
  "language_info": {
   "codemirror_mode": {
    "name": "ipython",
    "version": 3
   },
   "file_extension": ".py",
   "mimetype": "text/x-python",
   "name": "python",
   "nbconvert_exporter": "python",
   "pygments_lexer": "ipython3",
   "version": "3.13.7"
  }
 },
 "nbformat": 4,
 "nbformat_minor": 5
}
